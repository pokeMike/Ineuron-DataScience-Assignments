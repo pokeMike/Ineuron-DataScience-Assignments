{
 "cells": [
  {
   "attachments": {},
   "cell_type": "markdown",
   "metadata": {},
   "source": [
    "# Assignment 8 Soultions"
   ]
  },
  {
   "attachments": {},
   "cell_type": "markdown",
   "metadata": {},
   "source": [
    "#### 1. In Python, what is the difference between a built-in function and a user-defined function? Provide an example of each."
   ]
  },
  {
   "attachments": {},
   "cell_type": "markdown",
   "metadata": {},
   "source": [
    "**Ans:** In Python, the main difference between a built-in function and a user-defined function lies in their origin and how they are defined.\n",
    "\n",
    "- Built-in functions:\n",
    "Built-in functions are predefined functions provided by the Python language itself. These functions are readily available for use without requiring any additional code or imports. They serve as fundamental tools for performing various operations and tasks in Python. Examples of built-in functions include print(), len(), range(), and sum().\n",
    "\n",
    "Here's an example using the print() built-in function to display a message on the console:"
   ]
  },
  {
   "cell_type": "code",
   "execution_count": 3,
   "metadata": {},
   "outputs": [
    {
     "name": "stdout",
     "output_type": "stream",
     "text": [
      "Hello, world!\n"
     ]
    }
   ],
   "source": [
    "print(\"Hello, world!\")"
   ]
  },
  {
   "attachments": {},
   "cell_type": "markdown",
   "metadata": {},
   "source": [
    "- User-defined functions:\n",
    "User-defined functions are created by the users themselves to perform specific tasks. These functions are defined by the user within their Python code. They allow users to encapsulate a block of reusable code that can be invoked multiple times throughout the program. User-defined functions are useful for organizing code, promoting reusability, and improving readability.\n",
    "\n",
    "Here's an example of a user-defined function named calculate_average() that calculates the average of a list of numbers:"
   ]
  },
  {
   "cell_type": "code",
   "execution_count": 4,
   "metadata": {},
   "outputs": [
    {
     "name": "stdout",
     "output_type": "stream",
     "text": [
      "The average is: 12.5\n"
     ]
    }
   ],
   "source": [
    "def calculate_average(numbers):\n",
    "    total = sum(numbers)\n",
    "    average = total / len(numbers)\n",
    "    return average\n",
    "\n",
    "my_numbers = [5, 10, 15, 20]\n",
    "result = calculate_average(my_numbers)\n",
    "print(\"The average is:\", result)"
   ]
  },
  {
   "attachments": {},
   "cell_type": "markdown",
   "metadata": {},
   "source": [
    "In this example, we define a function calculate_average() that takes a list of numbers as a parameter and returns the average. We then call the function with a list of numbers [5, 10, 15, 20], assign the returned value to a variable result, and finally print the result using the built-in print() function."
   ]
  },
  {
   "attachments": {},
   "cell_type": "markdown",
   "metadata": {},
   "source": [
    "#### 2. How can you pass arguments to a function in Python? Explain the difference between positional arguments and keyword arguments."
   ]
  },
  {
   "attachments": {},
   "cell_type": "markdown",
   "metadata": {},
   "source": [
    "**Ans:** In Python, you can pass arguments to a function by specifying them inside the parentheses when defining or calling the function. There are two types of arguments you can pass to a function: positional arguments and keyword arguments.\n",
    "\n",
    "**1.** Positional arguments:\n",
    "Positional arguments are passed to a function based on their position or order. The function's definition and the function call must match in terms of the number and order of positional arguments. When you call a function with positional arguments, the values you provide are assigned to the function parameters in the same order.\n",
    "\n",
    "Here's an example of a function called add_numbers() that takes two positional arguments and returns their sum:"
   ]
  },
  {
   "cell_type": "code",
   "execution_count": 5,
   "metadata": {},
   "outputs": [
    {
     "name": "stdout",
     "output_type": "stream",
     "text": [
      "The sum is: 8\n"
     ]
    }
   ],
   "source": [
    "def add_numbers(a, b):\n",
    "    return a + b\n",
    "\n",
    "result = add_numbers(3, 5)\n",
    "print(\"The sum is:\", result)"
   ]
  },
  {
   "attachments": {},
   "cell_type": "markdown",
   "metadata": {},
   "source": [
    "In this example, the function add_numbers() accepts two positional arguments a and b. When we call the function with add_numbers(3, 5), the value 3 is assigned to a and 5 is assigned to b. The function then returns the sum of a and b, which is 8.\n",
    "\n",
    "**2** Keyword arguments:\n",
    "Keyword arguments are passed to a function using their corresponding parameter names. This allows you to specify arguments out of order, providing more flexibility and readability. When calling a function with keyword arguments, you explicitly mention the parameter names followed by the values.\n",
    "\n",
    "Here's an example using a function called calculate_area() that calculates the area of a rectangle using its length and width as keyword arguments:"
   ]
  },
  {
   "cell_type": "code",
   "execution_count": 6,
   "metadata": {},
   "outputs": [
    {
     "name": "stdout",
     "output_type": "stream",
     "text": [
      "The area is: 15\n"
     ]
    }
   ],
   "source": [
    "def calculate_area(length, width):\n",
    "    return length * width\n",
    "\n",
    "result = calculate_area(length=5, width=3)\n",
    "print(\"The area is:\", result)"
   ]
  },
  {
   "attachments": {},
   "cell_type": "markdown",
   "metadata": {},
   "source": [
    "In this example, the function `calculate_area()` accepts two keyword arguments length and width. When we call the function with `calculate_area`(`length=5, width=3`), the values `5` and `3` are explicitly assigned to the corresponding parameter names. The function then calculates and returns the area of the rectangle, which is `15`.\n",
    "\n",
    "Using keyword arguments also allows you to provide default values for parameters in a function. This means that if a value is not explicitly passed for a parameter, it will take on the default value specified in the function's definition.\n",
    "\n",
    "By combining positional arguments and keyword arguments, you can have functions that accept a mix of both, allowing for more flexible function calls depending on your needs."
   ]
  },
  {
   "attachments": {},
   "cell_type": "markdown",
   "metadata": {},
   "source": [
    "#### 3. What is the purpose of the return statement in a function? Can a function have multiple return statements? Explain with an example."
   ]
  },
  {
   "attachments": {},
   "cell_type": "markdown",
   "metadata": {},
   "source": [
    "**Ans:** The purpose of the return statement in a function is to specify the value that the function should produce as its result. It allows the function to send data back to the part of the program that called it.\n",
    "\n",
    "Yes, a function can have multiple return statements. However, only one return statement is executed during a single function call. When a return statement is encountered, the function immediately exits, and the specified value is returned to the caller. This means that any code following a executed return statement within the function will not be executed.\n",
    "\n",
    "Here's an example to illustrate this:"
   ]
  },
  {
   "cell_type": "code",
   "execution_count": 7,
   "metadata": {},
   "outputs": [
    {
     "name": "stdout",
     "output_type": "stream",
     "text": [
      "B\n",
      "C\n"
     ]
    }
   ],
   "source": [
    "def get_grade(score):\n",
    "    if score >= 90:\n",
    "        return \"A\"\n",
    "    elif score >= 80:\n",
    "        return \"B\"\n",
    "    elif score >= 70:\n",
    "        return \"C\"\n",
    "    else:\n",
    "        return \"F\"\n",
    "\n",
    "result1 = get_grade(85)\n",
    "print(result1)\n",
    "\n",
    "result2 = get_grade(72)\n",
    "print(result2)"
   ]
  },
  {
   "attachments": {},
   "cell_type": "markdown",
   "metadata": {},
   "source": [
    "In this example, the `get_grade()` function takes a score as an argument and determines the corresponding grade based on certain conditions. It uses multiple return statements to return different grades.\n",
    "\n",
    "When we call `get_grade(85)`, the score `85` is passed as an argument. Since it is greater than or equal to `80`, but not greater than or equal to `90`, the second return statement is executed, and the grade \"B\" is returned. The value \"B\" is stored in the variable result1 and then printed.\n",
    "\n",
    "Similarly, when we call `get_grade(72)`, the score `72` is passed as an argument. It is greater than or equal to `70`, but not greater than or equal to `80`. Therefore, the third return statement is executed, and the grade \"C\" is returned. The value \"C\" is stored in the variable result2 and then printed.\n",
    "\n",
    "In both cases, only one return statement is executed, and the function exits at that point. The specific return statement that matches the condition being satisfied is the one that determines the returned value."
   ]
  },
  {
   "attachments": {},
   "cell_type": "markdown",
   "metadata": {},
   "source": [
    "#### 4. What are lambda functions in Python? How are they different from regular functions? Provide an example where a lambda function can be useful."
   ]
  },
  {
   "attachments": {},
   "cell_type": "markdown",
   "metadata": {},
   "source": [
    "**Ans:** In Python, lambda functions are anonymous functions that are defined without a name. They are also referred to as \"lambda expressions\" or \"anonymous functions\" because they don't require a function name declaration like regular functions defined using the def keyword.\n",
    "\n",
    "Lambda functions are defined using the lambda keyword, followed by the arguments, a colon :, and the expression or statement that represents the function's body. They can take any number of arguments but can only have one expression.\n",
    "\n",
    "Here's an example that demonstrates the syntax of a lambda function:"
   ]
  },
  {
   "cell_type": "code",
   "execution_count": 8,
   "metadata": {},
   "outputs": [
    {
     "name": "stdout",
     "output_type": "stream",
     "text": [
      "8\n"
     ]
    }
   ],
   "source": [
    "add_numbers = lambda a, b: a + b\n",
    "result = add_numbers(3, 5)\n",
    "print(result)  # Output: 8"
   ]
  },
  {
   "attachments": {},
   "cell_type": "markdown",
   "metadata": {},
   "source": [
    "In this example, we define a lambda function add_numbers that takes two arguments `a` and `b` and returns their sum. The lambda function is assigned to the variable `add_numbers`. We then call the lambda function with `add_numbers(3, 5)`, which returns the sum of `3` and `5`, resulting in `8`. Finally, the result is printed.\n",
    "\n",
    "Lambda functions are different from regular functions in the following ways:\n",
    "\n",
    "**1.** Syntax: Lambda functions are defined using the lambda keyword, while regular functions are defined using the def keyword.\n",
    "\n",
    "**2.** Name: Lambda functions are anonymous and don't have a specific name, while regular functions have a name that identifies them.\n",
    "\n",
    "**3.** Size and complexity: Lambda functions are typically used for simple and concise operations, usually consisting of a single expression. Regular functions can be more complex and can have multiple statements and control flow structures.\n",
    "\n",
    "Lambda functions are useful in situations where you need a small and simple function for a specific task and don't want to define a separate named function using def. They are commonly used in functional programming paradigms and can be passed as arguments to other functions, used in list comprehensions, or employed in situations where a small function is needed for one-time use.\n",
    "\n",
    "Here's an example where a lambda function can be useful:"
   ]
  },
  {
   "cell_type": "code",
   "execution_count": 9,
   "metadata": {},
   "outputs": [
    {
     "name": "stdout",
     "output_type": "stream",
     "text": [
      "[1, 4, 9, 16, 25]\n"
     ]
    }
   ],
   "source": [
    "numbers = [1, 2, 3, 4, 5]\n",
    "squared_numbers = list(map(lambda x: x ** 2, numbers))\n",
    "print(squared_numbers)  # Output: [1, 4, 9, 16, 25]"
   ]
  },
  {
   "attachments": {},
   "cell_type": "markdown",
   "metadata": {},
   "source": [
    "In this example, we have a list of numbers. We use the `map()` function along with a lambda function to calculate the square of each number in the list. The lambda function lambda `x`: `x` ** `2` defines the squaring operation. The `map()` function applies the lambda function to each element of the list, and the result is converted to a list using `list()`. The output is `[1, 4, 9, 16, 25]`, which represents the squared numbers from the original list."
   ]
  },
  {
   "attachments": {},
   "cell_type": "markdown",
   "metadata": {},
   "source": [
    "#### 5. How does the concept of \"scope\" apply to functions in Python? Explain the difference between local scope and global scope."
   ]
  },
  {
   "attachments": {},
   "cell_type": "markdown",
   "metadata": {},
   "source": [
    "**Ans:** In Python, \"scope\" refers to the visibility and accessibility of variables within a program. It determines where and how a variable can be accessed or referenced. The concept of scope applies to functions in Python, and there are two main types of scope: local scope and global scope.\n",
    "\n",
    "**1.** Local Scope:\n",
    "Local scope refers to the visibility of variables that are defined inside a function. Variables created within a function are considered to have local scope, meaning they are only accessible within that function. Local variables are not accessible outside the function or in other functions.\n",
    "\n",
    "Here's an example to illustrate local scope:"
   ]
  },
  {
   "cell_type": "code",
   "execution_count": 10,
   "metadata": {},
   "outputs": [
    {
     "name": "stdout",
     "output_type": "stream",
     "text": [
      "10\n"
     ]
    },
    {
     "ename": "NameError",
     "evalue": "name 'x' is not defined",
     "output_type": "error",
     "traceback": [
      "\u001b[1;31m---------------------------------------------------------------------------\u001b[0m",
      "\u001b[1;31mNameError\u001b[0m                                 Traceback (most recent call last)",
      "Cell \u001b[1;32mIn[10], line 6\u001b[0m\n\u001b[0;32m      3\u001b[0m     \u001b[39mprint\u001b[39m(x)\n\u001b[0;32m      5\u001b[0m my_function()  \u001b[39m# Output: 10\u001b[39;00m\n\u001b[1;32m----> 6\u001b[0m \u001b[39mprint\u001b[39m(x)      \u001b[39m# Raises NameError: name 'x' is not defined\u001b[39;00m\n",
      "\u001b[1;31mNameError\u001b[0m: name 'x' is not defined"
     ]
    }
   ],
   "source": [
    "def my_function():\n",
    "    x = 10  # Local variable\n",
    "    print(x)\n",
    "\n",
    "my_function()  # Output: 10\n",
    "print(x)      # Raises NameError: name 'x' is not defined"
   ]
  },
  {
   "attachments": {},
   "cell_type": "markdown",
   "metadata": {},
   "source": [
    "In this example, the variable `x` is defined within the `my_function()` function. It has local scope, and it can only be accessed within the function itself. Trying to access `x` outside the function, as shown in the second print() statement, will result in a NameError because the variable is not defined in the global scope.\n",
    "\n",
    "**2.** Global Scope:\n",
    "Global scope refers to the visibility of variables that are defined outside of any function, making them accessible throughout the entire program. Variables created at the top level of a program or explicitly declared as global have global scope.\n",
    "\n",
    "Here's an example to demonstrate global scope:"
   ]
  },
  {
   "cell_type": "code",
   "execution_count": null,
   "metadata": {},
   "outputs": [],
   "source": [
    "x = 10  # Global variable\n",
    "\n",
    "def my_function():\n",
    "    print(x)\n",
    "\n",
    "my_function()  # Output: 10\n",
    "print(x)      # Output: 10"
   ]
  },
  {
   "attachments": {},
   "cell_type": "markdown",
   "metadata": {},
   "source": [
    "In this example, the variable `x` is defined outside of any function, making it a global variable. It can be accessed both inside the `my_function()` function and outside of it. The first print() statement within the function accesses the global variable `x`, and the second print() statement outside the function also accesses the same global variable."
   ]
  },
  {
   "attachments": {},
   "cell_type": "markdown",
   "metadata": {},
   "source": [
    "#### 6. How can you use the \"return\" statement in a Python function to return multiple values?"
   ]
  },
  {
   "attachments": {},
   "cell_type": "markdown",
   "metadata": {},
   "source": [
    "**Ans:** n Python, you can use the return statement in a function to return multiple values by separating them with commas. There are a few ways to accomplish this:\n",
    "\n",
    "**1.** Using a tuple:\n",
    "You can return multiple values as a tuple. A tuple is an ordered collection of elements enclosed in parentheses.\n",
    "\n",
    "Here's an example:"
   ]
  },
  {
   "cell_type": "code",
   "execution_count": null,
   "metadata": {},
   "outputs": [],
   "source": [
    "def get_name_and_age():\n",
    "    name = \"Alice\"\n",
    "    age = 25\n",
    "    return name, age\n",
    "\n",
    "result = get_name_and_age()\n",
    "print(result)  # Output: ('Alice', 25)"
   ]
  },
  {
   "attachments": {},
   "cell_type": "markdown",
   "metadata": {},
   "source": [
    "In this example, the `get_name_and_age()` function returns two values, name and age. By simply specifying name, age in the return statement, a tuple is automatically created with the values. The result is assigned to the variable result, which can then be used to access the individual values.\n",
    "\n",
    "**2.** Using a list or any other iterable:\n",
    "Instead of returning a tuple, you can also use a list or any other iterable to return multiple values.\n",
    "\n",
    "Here's an example:"
   ]
  },
  {
   "cell_type": "code",
   "execution_count": null,
   "metadata": {},
   "outputs": [],
   "source": [
    "def get_numbers():\n",
    "    numbers = [1, 2, 3, 4, 5]\n",
    "    evens = [num for num in numbers if num % 2 == 0]\n",
    "    odds = [num for num in numbers if num % 2 != 0]\n",
    "    return evens, odds\n",
    "\n",
    "result = get_numbers()\n",
    "print(result)  # Output: ([2, 4], [1, 3, 5])"
   ]
  },
  {
   "attachments": {},
   "cell_type": "markdown",
   "metadata": {},
   "source": [
    "In this example, the `get_numbers()` function returns two lists: evens and odds. The return statement separates these two lists by a comma, and the resulting values are returned as a tuple. The tuple is assigned to the variable result, which can be used to access the individual lists.\n",
    "\n",
    "**3.** Using dictionary or named tuple:\n",
    "If you need to return multiple values along with their corresponding names or labels, you can use a dictionary or a named tuple.\n",
    "\n",
    "Example using a dictionary:"
   ]
  },
  {
   "cell_type": "code",
   "execution_count": null,
   "metadata": {},
   "outputs": [],
   "source": [
    "def get_person_details():\n",
    "    person = {\n",
    "        'name': 'Alice',\n",
    "        'age': 25,\n",
    "        'country': 'USA'\n",
    "    }\n",
    "    return person\n",
    "\n",
    "result = get_person_details()\n",
    "print(result['name'])    # Output: 'Alice'\n",
    "print(result['age'])     # Output: 25\n",
    "print(result['country']) # Output: 'USA'"
   ]
  },
  {
   "attachments": {},
   "cell_type": "markdown",
   "metadata": {},
   "source": [
    "In this example, the `get_person_details()` function returns a dictionary containing the person's details. The dictionary is assigned to the variable result, allowing access to the individual values using their corresponding keys."
   ]
  },
  {
   "attachments": {},
   "cell_type": "markdown",
   "metadata": {},
   "source": [
    "#### 7. What is the difference between the \"pass by value\" and \"pass by reference\" concepts when it comes to function arguments in Python?"
   ]
  },
  {
   "attachments": {},
   "cell_type": "markdown",
   "metadata": {},
   "source": [
    "**Ans:** The concepts of \"pass by value\" and \"pass by reference\" are not applicable in the same way as in some other programming languages. Python uses a different mechanism called \"pass by assignment\" or \"pass by object reference.\"\n",
    "\n",
    "In Python, when you pass an argument to a function, you are actually passing a reference to the object. However, the behavior can appear similar to both \"pass by value\" and \"pass by reference\" depending on the type of the object being passed.\n",
    "\n",
    "**1.** Immutable Objects (e.g., numbers, strings, tuples):\n",
    "Immutable objects are passed by value in Python. When an immutable object is passed as an argument to a function, a copy of the value is created, and the function operates on that copy. This means that modifications made to the copy within the function do not affect the original object outside the function.\n",
    "\n",
    "Here's an example to illustrate pass by value for immutable objects:"
   ]
  },
  {
   "cell_type": "code",
   "execution_count": null,
   "metadata": {},
   "outputs": [],
   "source": [
    "def modify_value(num):\n",
    "    num += 10\n",
    "    print(\"Inside the function:\", num)\n",
    "\n",
    "x = 5\n",
    "modify_value(x)\n",
    "print(\"Outside the function:\", x)"
   ]
  },
  {
   "attachments": {},
   "cell_type": "markdown",
   "metadata": {},
   "source": [
    "In this example, the variable `x` is an immutable object (integer). When `x` is passed as an argument to the `modify_value()` function, a copy of the value is created. The function modifies the copy by adding 10, but the original value of `x` remains unchanged. Therefore, the output is:"
   ]
  },
  {
   "attachments": {},
   "cell_type": "markdown",
   "metadata": {},
   "source": [
    "    Inside the function: 15\n",
    "    Outside the function: 5"
   ]
  },
  {
   "attachments": {},
   "cell_type": "markdown",
   "metadata": {},
   "source": [
    "**2.** Mutable Objects (e.g., lists, dictionaries):\n",
    "Mutable objects are passed by reference in Python. When a mutable object is passed as an argument to a function, the reference to the object is passed. This means that any modifications made to the object within the function will affect the original object outside the function.\n",
    "\n",
    "Here's an example to illustrate pass by reference for mutable objects:"
   ]
  },
  {
   "cell_type": "code",
   "execution_count": null,
   "metadata": {},
   "outputs": [],
   "source": [
    "def modify_list(lst):\n",
    "    lst.append(4)\n",
    "    lst[0] = 100\n",
    "    print(\"Inside the function:\", lst)\n",
    "\n",
    "my_list = [1, 2, 3]\n",
    "modify_list(my_list)\n",
    "print(\"Outside the function:\", my_list)"
   ]
  },
  {
   "attachments": {},
   "cell_type": "markdown",
   "metadata": {},
   "source": [
    "In this example, the variable `my_list` is a mutable object (list). When `my_list` is passed as an argument to the `modify_list()` function, the reference to the original list is passed. The function modifies the list by appending `4` and changing the value at index `0` to `100`. These modifications are reflected in the original list outside the function. Therefore, the output is:"
   ]
  },
  {
   "attachments": {},
   "cell_type": "markdown",
   "metadata": {},
   "source": [
    "    Inside the function: [100, 2, 3, 4]\n",
    "    Outside the function: [100, 2, 3, 4]"
   ]
  },
  {
   "attachments": {},
   "cell_type": "markdown",
   "metadata": {},
   "source": [
    "#### 8. Create a function that can intake integer or decimal value and do following operations:\n",
    "#### a. Logarithmic function (log x)\n",
    "#### b. Exponential function (exp(x))\n",
    "#### c. Power function with base 2 (2x)\n",
    "#### d. Square root"
   ]
  },
  {
   "attachments": {},
   "cell_type": "markdown",
   "metadata": {},
   "source": [
    "**Ans:**"
   ]
  },
  {
   "cell_type": "code",
   "execution_count": null,
   "metadata": {},
   "outputs": [],
   "source": [
    "import math\n",
    "\n",
    "def perform_operations(x):\n",
    "    logarithm = math.log(x)\n",
    "    exponential = math.exp(x)\n",
    "    power = math.pow(2, x)\n",
    "    square_root = math.sqrt(x)\n",
    "    return logarithm, exponential, power, square_root\n",
    "\n",
    "# Testing the function\n",
    "result = perform_operations(2.5)\n",
    "print(result)"
   ]
  },
  {
   "attachments": {},
   "cell_type": "markdown",
   "metadata": {},
   "source": [
    "In this function, you can pass either an integer or a decimal value to perform_operations(). The function will calculate the logarithm (base e), exponential, power with base 2, and square root of the input value. The results are returned as a tuple and printed."
   ]
  },
  {
   "attachments": {},
   "cell_type": "markdown",
   "metadata": {},
   "source": [
    "#### 9. Create a function that takes a full name as an argument and returns first name and last name."
   ]
  },
  {
   "cell_type": "code",
   "execution_count": null,
   "metadata": {},
   "outputs": [
    {
     "name": "stdout",
     "output_type": "stream",
     "text": [
      "First Name: John\n",
      "Last Name: Doe\n"
     ]
    }
   ],
   "source": [
    "def split_full_name(full_name):\n",
    "    # Split the full name into first name and last name\n",
    "    names = full_name.split()\n",
    "    first_name = names[0]\n",
    "    last_name = names[-1]\n",
    "    return first_name, last_name\n",
    "\n",
    "# Testing the function\n",
    "full_name = \"John Doe\"\n",
    "first, last = split_full_name(full_name)\n",
    "print(\"First Name:\", first)\n",
    "print(\"Last Name:\", last)"
   ]
  },
  {
   "attachments": {},
   "cell_type": "markdown",
   "metadata": {},
   "source": [
    "In this function, `split_full_name()` takes a full name as the `full_name` argument. It then splits the full name using the `split()` method, which splits the string into a list of words. The first name is extracted from the list using `names[0]`, and the last name is extracted using `names[-1]` (which represents the last element of the list). Finally, the function returns the first name and last name as separate values."
   ]
  }
 ],
 "metadata": {
  "kernelspec": {
   "display_name": "Python 3",
   "language": "python",
   "name": "python3"
  },
  "language_info": {
   "codemirror_mode": {
    "name": "ipython",
    "version": 3
   },
   "file_extension": ".py",
   "mimetype": "text/x-python",
   "name": "python",
   "nbconvert_exporter": "python",
   "pygments_lexer": "ipython3",
   "version": "3.11.4"
  },
  "orig_nbformat": 4
 },
 "nbformat": 4,
 "nbformat_minor": 2
}
