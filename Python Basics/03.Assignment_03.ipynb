{
 "cells": [
  {
   "attachments": {},
   "cell_type": "markdown",
   "metadata": {},
   "source": [
    "# Assignment 3 Solutions"
   ]
  },
  {
   "attachments": {},
   "cell_type": "markdown",
   "metadata": {},
   "source": [
    "#### 1. Why are functions advantageous to have in your programs?\n",
    "**Ans:** Functions reduce the need for duplicate code. This makes programs shorter, easier to read, and easier to update.\n",
    "There are several advantage of functions and they are as follows:\n",
    "1. Code organization: Functions allow you to break down your code into logical, modular units. Instead of having a large, monolithic block of code, you can divide it into smaller, self-contained functions. This improves code readability, makes it easier to understand and maintain, and allows for better collaboration among developers.\n",
    "2. Code Reusability: Functions can be reused throughout your program or in different programs. Once you define a function, you can call it multiple times from different parts of your code without having to rewrite the same logic.\n",
    "3. Abstraction: Functions provide a level of abstraction by encapsulating a set of instructions behind a single, named entity. When you call a function, you don't need to know the implementation details; you only need to know how to use it and what it returns.\n",
    "4. Modularity: Functions enable modular programming by breaking down complex problems into smaller, manageable pieces. Each function can handle a specific task or solve a particular sub-problem, making the overall program structure clearer and more organized.\n",
    "5. Debugging and troubleshooting: Functions make it easier to isolate and identify issues in your code. Since each function has a specific purpose, it is easier to locate and fix errors within a smaller scope.\n",
    "6. Readability and maintainability: Functions improve code readability by providing meaningful names that describe their purpose and functionality. Well-designed functions with clear names and a single responsibility are easier to understand, modify, and maintain."
   ]
  },
  {
   "attachments": {},
   "cell_type": "markdown",
   "metadata": {},
   "source": [
    "#### 2. When does the code in a function run: when it's specified or when it's called?\n",
    "**Ans:** The code inside a function runs when the function is called or invoked, not when it is specified or defined."
   ]
  },
  {
   "attachments": {},
   "cell_type": "markdown",
   "metadata": {},
   "source": [
    "#### 3. What statement creates a function?\n",
    "**Ans:** The `def` statement defines a function.  \n",
    "**Example of a Function:**  "
   ]
  },
  {
   "cell_type": "code",
   "execution_count": 1,
   "metadata": {},
   "outputs": [],
   "source": [
    "def greet():\n",
    "    print(\"Hello, world!\")"
   ]
  },
  {
   "attachments": {},
   "cell_type": "markdown",
   "metadata": {},
   "source": [
    "In this example, the def statement is followed by the name of the function (greet in this case) and a pair of parentheses (). The parentheses may contain parameters (input values) that the function accepts, but in this simple example, the function doesn't take any parameters.\n",
    "\n",
    "After the parentheses, a colon : is used to indicate the start of the function block. The code inside the function block is indented and defines the behavior of the function.\n",
    "\n",
    "So, the def statement is used to declare or create a function and specify its name, parameters (if any), and the code block that defines its functionality. Once the function is defined, it can be called or invoked using its name followed by parentheses to execute the code inside the function block."
   ]
  },
  {
   "attachments": {},
   "cell_type": "markdown",
   "metadata": {},
   "source": [
    "#### 4. What is the difference between a function and a function call?\n",
    "**Ans:** \n",
    "1. Function: A function is a block of reusable code that performs a specific task. It is defined using the def keyword followed by the function name, parentheses (), and a colon :. The function may take input values called parameters, and it may optionally return a value. Here's an example of a function definition :"
   ]
  },
  {
   "cell_type": "code",
   "execution_count": 2,
   "metadata": {},
   "outputs": [],
   "source": [
    "def greet():\n",
    "    print(\"Hello, world!\")"
   ]
  },
  {
   "attachments": {},
   "cell_type": "markdown",
   "metadata": {},
   "source": [
    "In the above example, greet() is a function that doesn't take any parameters and simply prints \"Hello, world!\" when called.\n",
    "\n",
    "2. Function Call: A function call is an instruction to execute a specific function at a particular point in the program. It is performed by using the function name followed by parentheses (). When a function call is encountered, the program jumps to the function's definition, executes the code inside the function block, and then returns to the point where the function was called. Here's an example of a function call :"
   ]
  },
  {
   "cell_type": "code",
   "execution_count": 3,
   "metadata": {},
   "outputs": [
    {
     "name": "stdout",
     "output_type": "stream",
     "text": [
      "Hello, world!\n"
     ]
    }
   ],
   "source": [
    "greet()  # Function call"
   ]
  },
  {
   "attachments": {},
   "cell_type": "markdown",
   "metadata": {},
   "source": [
    "In this example, the greet() function is called, and it prints \"Hello, world!\" to the console."
   ]
  },
  {
   "attachments": {},
   "cell_type": "markdown",
   "metadata": {},
   "source": [
    "#### 5. How many global scopes are there in a Python program? How many local scopes?\n",
    "**Ans:** There is one global scope, and a local scope is created whenever a function is called."
   ]
  },
  {
   "attachments": {},
   "cell_type": "markdown",
   "metadata": {},
   "source": [
    "#### 6. What happens to variables in a local scope when the function call returns?\n",
    "**Ans:** When a function returns, the local scope is destroyed, and all the variables in it are forgotten."
   ]
  },
  {
   "attachments": {},
   "cell_type": "markdown",
   "metadata": {},
   "source": [
    "#### 7. What is the concept of a return value? Is it possible to have a return value in an expression?\n",
    "**Ans**: A return value is the value that a function call evaluates to. Like any value, a return value can be used\n",
    "as part of an expression."
   ]
  },
  {
   "attachments": {},
   "cell_type": "markdown",
   "metadata": {},
   "source": [
    "#### 8. If a function does not have a return statement, what is the return value of a call to that function?\n",
    "**Ans:** If there is no return statement for a function, its return value is `None`."
   ]
  },
  {
   "attachments": {},
   "cell_type": "markdown",
   "metadata": {},
   "source": [
    "#### 9. How do you make a function variable refer to the global variable?\n",
    "**Ans:** A global statement will force a variable in a function to refer to the global variable.\n",
    "If you want to refer to a global variable in a function, you can use the `global` keyword to declare which variables are  global."
   ]
  },
  {
   "attachments": {},
   "cell_type": "markdown",
   "metadata": {},
   "source": [
    "#### 10. What is the data type of None?\n",
    "**Ans:** The data type of None is `NoneType`."
   ]
  },
  {
   "attachments": {},
   "cell_type": "markdown",
   "metadata": {},
   "source": [
    "#### 11. What does the sentence import areallyourpetsnamederic do?\n",
    "**Ans:** That import statement imports a module named areallyourpetsnamederic."
   ]
  },
  {
   "attachments": {},
   "cell_type": "markdown",
   "metadata": {},
   "source": [
    "#### 12. If you had a bacon() feature in a spam module, what would you call it after importing spam?\n",
    "**Ans:** This function can be called with `spam.bacon()`."
   ]
  },
  {
   "attachments": {},
   "cell_type": "markdown",
   "metadata": {},
   "source": [
    "#### 13. What can you do to save a programme from crashing if it encounters an error?\n",
    "**Ans:** Place the line of code that might cause an error in a `try` clause and use except `block` to handle the error."
   ]
  },
  {
   "attachments": {},
   "cell_type": "markdown",
   "metadata": {},
   "source": [
    "#### 14. What is the purpose of the try clause? What is the purpose of the except clause?\n",
    "**Ans:**The code that could potentially cause an error goes in the `try` clause. The code that executes if an error happens goes in the `except` clause."
   ]
  }
 ],
 "metadata": {
  "kernelspec": {
   "display_name": "Python 3",
   "language": "python",
   "name": "python3"
  },
  "language_info": {
   "codemirror_mode": {
    "name": "ipython",
    "version": 3
   },
   "file_extension": ".py",
   "mimetype": "text/x-python",
   "name": "python",
   "nbconvert_exporter": "python",
   "pygments_lexer": "ipython3",
   "version": "3.11.3"
  }
 },
 "nbformat": 4,
 "nbformat_minor": 4
}
