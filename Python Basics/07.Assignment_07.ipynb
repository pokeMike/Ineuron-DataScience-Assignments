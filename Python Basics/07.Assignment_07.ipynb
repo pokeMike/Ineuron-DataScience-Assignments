{
 "cells": [
  {
   "attachments": {},
   "cell_type": "markdown",
   "metadata": {},
   "source": [
    "# Assignment 7 Soultions"
   ]
  },
  {
   "attachments": {},
   "cell_type": "markdown",
   "metadata": {},
   "source": [
    "#### 1. Create two int type variables, apply addition, subtraction, division and multiplications and store the results in variables. Then print the data in the following format by calling the variables:\n",
    "    First variable is __ & second variable is __.\n",
    "    Addition: __ + __ = __\n",
    "    Subtraction: __ - __ = __\n",
    "    Multiplication: __ * __ = __\n",
    "    Division: __ / __ = __"
   ]
  },
  {
   "attachments": {},
   "cell_type": "markdown",
   "metadata": {},
   "source": [
    "**Ans:**"
   ]
  },
  {
   "cell_type": "code",
   "execution_count": 2,
   "metadata": {},
   "outputs": [
    {
     "name": "stdout",
     "output_type": "stream",
     "text": [
      "First variable is 10 & second variable is 5\n",
      "Addition: 10 + 5 = 15\n",
      "Subtraction: 10 - 5 = 5\n",
      "Multiplication: 10 * 5 = 50\n",
      "Division: 10 / 5 = 2.0\n"
     ]
    }
   ],
   "source": [
    "# Create two int type variables\n",
    "variable1 = 10\n",
    "variable2 = 5\n",
    "\n",
    "# Perform arithmetic operations and store results in variables\n",
    "addition = variable1 + variable2\n",
    "subtraction = variable1 - variable2\n",
    "multiplication = variable1 * variable2\n",
    "division = variable1 / variable2\n",
    "\n",
    "# Print the results in the specified format\n",
    "print(\"First variable is\", variable1, \"& second variable is\", variable2)\n",
    "print(\"Addition:\", variable1, \"+\", variable2, \"=\", addition)\n",
    "print(\"Subtraction:\", variable1, \"-\", variable2, \"=\", subtraction)\n",
    "print(\"Multiplication:\", variable1, \"*\", variable2, \"=\", multiplication)\n",
    "print(\"Division:\", variable1, \"/\", variable2, \"=\", division)\n",
    "\n"
   ]
  },
  {
   "attachments": {},
   "cell_type": "markdown",
   "metadata": {},
   "source": [
    "#### 2.What is the difference between the following operators:\n",
    "    (i) ‘/’ & ‘//’\n",
    "    (ii) ‘**’ & ‘^’\n",
    "**Ans:** \n",
    "**(i) / and //**:\n",
    "\n",
    "- `/` is the division operator in Python and performs floating-point division. It returns the exact quotient, including decimal places if necessary.\n",
    "- `//` is the floor division operator in Python. It performs division and returns the largest integer less than or equal to the exact quotient. In other words, it discards the decimal part and returns the integer result of the division.\n",
    "\n",
    "Here's an example to illustrate the difference:"
   ]
  },
  {
   "cell_type": "code",
   "execution_count": 3,
   "metadata": {},
   "outputs": [
    {
     "name": "stdout",
     "output_type": "stream",
     "text": [
      "3.3333333333333335\n",
      "3\n"
     ]
    }
   ],
   "source": [
    "a = 10\n",
    "b = 3\n",
    "\n",
    "result1 = a / b  # Floating-point division\n",
    "result2 = a // b  # Floor division\n",
    "\n",
    "print(result1)  # Output: 3.3333333333333335\n",
    "print(result2)  # Output: 3"
   ]
  },
  {
   "attachments": {},
   "cell_type": "markdown",
   "metadata": {},
   "source": [
    "**(ii) ** **and ^** :\n",
    "\n",
    "- `**` is the exponentiation operator in Python. It raises a number to a given power. For example, `a ** b` calculates `a` raised to the power of `b`. \n",
    "- `^` is not the exponentiation operator in Python. Instead, it is the bitwise XOR operator. It performs a bitwise XOR operation between two integers.\n",
    "\n",
    "Here's an example to illustrate the usage of `**` and `^`:"
   ]
  },
  {
   "cell_type": "code",
   "execution_count": 4,
   "metadata": {},
   "outputs": [
    {
     "name": "stdout",
     "output_type": "stream",
     "text": [
      "8\n",
      "1\n"
     ]
    }
   ],
   "source": [
    "a = 2\n",
    "b = 3\n",
    "\n",
    "result1 = a ** b  # Exponentiation\n",
    "result2 = a ^ b  # Bitwise XOR\n",
    "\n",
    "print(result1)  # Output: 8\n",
    "print(result2)  # Output: 1"
   ]
  },
  {
   "attachments": {},
   "cell_type": "markdown",
   "metadata": {},
   "source": [
    "#### 3.List the logical operators.\n",
    "**Ans.** The logical operators are used to combine and manipulate boolean values (True and False). The logical operators in Python are as follows:\n",
    "\n",
    "- and: The \"and\" operator returns True if both operands are true; otherwise, it returns False.\n",
    "\n",
    "- or: The \"or\" operator returns True if at least one of the operands is true; otherwise, it returns False.\n",
    "\n",
    "- not: The \"not\" operator returns the opposite of the operand's boolean value. If the operand is True, it returns False, and if the operand is False, it returns True.\n",
    "\n",
    "Here's an example to demonstrate the usage of logical operators:"
   ]
  },
  {
   "cell_type": "code",
   "execution_count": 2,
   "metadata": {},
   "outputs": [
    {
     "name": "stdout",
     "output_type": "stream",
     "text": [
      "False\n",
      "True\n",
      "False\n"
     ]
    }
   ],
   "source": [
    "a = True\n",
    "b = False\n",
    "\n",
    "# Logical AND\n",
    "result1 = a and b  # False\n",
    "\n",
    "# Logical OR\n",
    "result2 = a or b  # True\n",
    "\n",
    "# Logical NOT\n",
    "result3 = not a  # False\n",
    "\n",
    "print(result1)\n",
    "print(result2)\n",
    "print(result3)"
   ]
  },
  {
   "attachments": {},
   "cell_type": "markdown",
   "metadata": {},
   "source": [
    "#### 4.Explain right shift operator and left shift operator with examples.\n",
    "**Ans:** The right shift operator (`>>`) and left shift operator (`<<`) are bitwise operators used to perform bit-level shifting on integer values. These operators shift the binary representation of a number to the right or left by a specified number of positions.\n",
    "\n",
    "- The right shift operator (`>>`) shifts the bits of a number to the right by the specified number of positions. It fills the vacant positions on the left with the sign bit (the most significant bit) to preserve the sign of the number. The syntax for the right shift operator is `x >> y`, where `x` is the number to be shifted and `y` is the number of positions to shift.\n",
    "\n",
    "    Example 1: Right Shift Operator"
   ]
  },
  {
   "cell_type": "code",
   "execution_count": 5,
   "metadata": {},
   "outputs": [
    {
     "name": "stdout",
     "output_type": "stream",
     "text": [
      "2\n"
     ]
    }
   ],
   "source": [
    "x = 10  # binary representation: 1010\n",
    "y = 2\n",
    "result = x >> y\n",
    "print(result)  # Output: 2"
   ]
  },
  {
   "attachments": {},
   "cell_type": "markdown",
   "metadata": {},
   "source": [
    "- The left shift operator (`<<`) shifts the bits of a number to the left by the specified number of positions. It fills the vacant positions on the right with 0. The syntax for the left shift operator is `x << y`, where `x` is the number to be shifted and `y` is the number of positions to shift.\n",
    "\n",
    "    Example 2: Left Shift Operator"
   ]
  },
  {
   "cell_type": "code",
   "execution_count": 6,
   "metadata": {},
   "outputs": [
    {
     "name": "stdout",
     "output_type": "stream",
     "text": [
      "40\n"
     ]
    }
   ],
   "source": [
    "x = 10  # binary representation: 1010\n",
    "y = 2\n",
    "result = x << y\n",
    "print(result)  # Output: 40"
   ]
  },
  {
   "attachments": {},
   "cell_type": "markdown",
   "metadata": {},
   "source": [
    "#### 5.Create a list containing int type data of length 15. Then write a code to check if 10 is present in the list or not.\n",
    "**Ans:**"
   ]
  },
  {
   "cell_type": "code",
   "execution_count": 1,
   "metadata": {},
   "outputs": [
    {
     "name": "stdout",
     "output_type": "stream",
     "text": [
      "10 is present in the list.\n"
     ]
    }
   ],
   "source": [
    "# Creating a list of length 15 with integer values\n",
    "my_list = [1, 5, 7, 10, 15, 20, 25, 30, 35, 40, 45, 50, 55, 60, 65]\n",
    "\n",
    "# Checking if 10 is present in the list\n",
    "if 10 in my_list:\n",
    "    print(\"10 is present in the list.\")\n",
    "else:\n",
    "    print(\"10 is not present in the list.\")"
   ]
  }
 ],
 "metadata": {
  "kernelspec": {
   "display_name": "Python 3",
   "language": "python",
   "name": "python3"
  },
  "language_info": {
   "codemirror_mode": {
    "name": "ipython",
    "version": 3
   },
   "file_extension": ".py",
   "mimetype": "text/x-python",
   "name": "python",
   "nbconvert_exporter": "python",
   "pygments_lexer": "ipython3",
   "version": "3.11.3"
  },
  "orig_nbformat": 4
 },
 "nbformat": 4,
 "nbformat_minor": 2
}
