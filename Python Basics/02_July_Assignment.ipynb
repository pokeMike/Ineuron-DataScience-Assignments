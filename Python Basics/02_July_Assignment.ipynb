{
  "cells": [
    {
      "cell_type": "markdown",
      "metadata": {
        "id": "6m3-oL_59YlJ"
      },
      "source": [
        "# Assignment 2nd July"
      ]
    },
    {
      "cell_type": "markdown",
      "metadata": {
        "id": "NA0AGbec9Yhj"
      },
      "source": [
        "## Question 1\n",
        "\n",
        "### Explain what inheritance is in object-oriented programming and why it is used.\n",
        "\n",
        "### Answer\n",
        "\n",
        "- Inheritance is a fundamental concept in object-oriented programming (OOP) that allows a class to inherit the properties and behaviors (methods and attributes) of another class.\n",
        "- It enables code reuse and promotes a hierarchical organization of classes. - Inheritance is used to establish relationships between classes, where a derived class (also called a subclass or child class) inherits characteristics from a base class (also called a superclass or parent class).\n",
        "- The derived class can extend or modify the functionality inherited from the base class, while still retaining the ability to access its properties and methods.\n",
        "\n",
        "Inheritance is used for several reasons:\n",
        "\n",
        "- **Code reuse:** Inheritance allows classes to inherit and reuse code from existing classes, reducing redundancy and promoting efficient development.\n",
        "- **Modularity and organization:** Inheritance enables the structuring of classes in a hierarchical manner, grouping related classes under a common base class.\n",
        "- **Polymorphism:** Inheritance forms the basis for polymorphism, allowing objects of derived classes to be treated as objects of the base class, which leads to more flexible and extensible code."
      ]
    },
    {
      "cell_type": "markdown",
      "metadata": {
        "id": "HjEp2-iB9-vW"
      },
      "source": [
        "## Question 2\n",
        "\n",
        "### Discuss the concept of single inheritance and multiple inheritance, highlighting their differences and advantages.\n",
        "\n",
        "### Answer\n",
        "\n",
        "Single inheritance and multiple inheritance are two types of inheritance relationships between classes:\n",
        "- Single inheritance:\n",
        "  - Single inheritance refers to the scenario where a derived class inherits from a single base class.\n",
        "  - In other words, the derived class has only one parent class. This relationship forms a linear hierarchy.\n",
        "  - Single inheritance promotes simplicity and avoids complexity in the class structure.\n",
        "\n",
        "- Multiple inheritance:\n",
        "  - Multiple inheritance refers to the scenario where a derived class inherits from multiple base classes. In this case, the derived class can inherit attributes and methods from multiple classes.\n",
        "  - This relationship allows the derived class to combine characteristics from different base classes, enabling greater code reuse and flexibility.\n",
        "  - However, multiple inheritance can introduce complexity and potential conflicts, such as the diamond problem (when a class inherits from two or more classes that have a common base class).\n",
        "\n",
        "- Advantages:\n",
        "\n",
        "  - **Single inheritance:** Promotes simplicity and a clear hierarchy, making it easier to understand and maintain the code. It can be sufficient for many scenarios and avoids the potential complications of multiple inheritance.\n",
        "  - **Multiple inheritance:** Enables greater code reuse by inheriting from multiple base classes. It allows for combining the functionality of different classes and promoting more modular and flexible designs."
      ]
    },
    {
      "cell_type": "markdown",
      "metadata": {
        "id": "okg4nE-L-cI7"
      },
      "source": [
        "## Question 3\n",
        "\n",
        "### Explain the terms \"base class\" and \"derived class\" in the context of inheritance.\n",
        "\n",
        "### Answer\n",
        "- Base class (superclass/parent class):\n",
        "  - The base class is the class from which other classes inherit properties and behaviors.\n",
        "  - It provides the blueprint or template for derived classes to follow.\n",
        "  - The base class can define common attributes and methods that are inherited by the derived classes.\n",
        "\n",
        "- Derived class (subclass/child class):\n",
        "  - The derived class is the class that inherits properties and behaviors from a base class.\n",
        "  - It extends or modifies the functionality of the base class and can add its own attributes and methods.\n",
        "  - The derived class can access the attributes and methods of the base class through inheritance."
      ]
    },
    {
      "cell_type": "markdown",
      "metadata": {
        "id": "nu5N1zG7-qj6"
      },
      "source": [
        "## Question 4\n",
        "\n",
        "### What is the significance of the \"protected\" access modifier in inheritance? How does it differ from \"private\" and \"public\" modifiers?\n",
        "\n",
        "### Answer\n",
        "\n",
        "- The `\"protected\"` access modifier in inheritance allows the attributes and methods of a class to be accessed by its derived classes.\n",
        "- It provides a middle ground between \"private\" and \"public\" access modifiers. - Protected members can be accessed within the class that defines them and any derived classes.\n",
        "- The significance of the \"protected\" access modifier is to provide encapsulation and controlled access within the inheritance hierarchy.\n",
        "- It allows derived classes to access and modify inherited members, while still restricting access to other classes or objects outside the inheritance hierarchy.\n",
        "- This promotes information hiding and ensures that the internal implementation details of a class are not exposed to external entities.\n",
        "\n",
        "#### **Difference from `\"private\"`:**\n",
        "\n",
        "  Private members are only accessible within the class that defines them, and they are not inherited by derived classes. Private members cannot be accessed directly by derived classes.\n",
        "  \n",
        "#### **Difference from `\"public\"`:**\n",
        "\n",
        "  Public members are accessible by any code that has access to the object. They can be accessed both within the class and by external code. Public members are inherited by derived classes and can be accessed by them."
      ]
    },
    {
      "cell_type": "markdown",
      "metadata": {
        "id": "lZmXUykv_XOq"
      },
      "source": [
        "## Question 5\n",
        "\n",
        "### What is the purpose of the \"super\" keyword in inheritance? Provide an example.\n",
        "\n",
        "### Answer\n",
        "\n",
        "- The `\"super\"` keyword in inheritance is used to refer to the base class from within a derived class.\n",
        "- It provides a way to access and invoke the base class's methods and constructors.\n",
        "- The `\"super\"` keyword is primarily used when the derived class wants to extend or modify the behavior of the base class while still utilizing the base class's implementation.\n",
        "- The `\"super\"` keyword is typically used in two ways:\n",
        "\n",
        "  1. **Accessing base class methods:** The `\"super\"` keyword can be used to call a method from the base class that has been overridden in the derived class. This allows the derived class to extend the base class's behavior while still leveraging the existing functionality.\n",
        "\n",
        "  2. **Calling the base class constructor:** The `\"super\"` keyword is used to call the base class constructor from within the derived class's constructor. This allows the derived class to initialize the inherited attributes from the base class and perform any additional initialization specific to the derived class.\n",
        "\n",
        "Example:\n",
        "```python\n",
        "class BaseClass:\n",
        "    def __init__(self, name):\n",
        "        self.name = name\n",
        "\n",
        "    def greet(self):\n",
        "        print(f\"Hello, {self.name}!\")\n",
        "\n",
        "class DerivedClass(BaseClass):\n",
        "    def __init__(self, name, age):\n",
        "        super().__init__(name)  # Call the base class constructor\n",
        "        self.age = age\n",
        "\n",
        "    def greet(self):\n",
        "        super().greet()  # Call the base class method\n",
        "        print(f\"You are {self.age} years old.\")\n",
        "\n",
        "# Create an instance of the derived class\n",
        "person = DerivedClass(\"John\", 25)\n",
        "person.greet()\n",
        "```\n",
        "In this example, the DerivedClass inherits from the BaseClass.\n",
        "- The DerivedClass overrides the greet method and also adds an age attribute.\n",
        "- The `super()` keyword is used to call the BaseClass constructor from within the DerivedClass constructor to initialize the inherited name attribute.\n",
        "- The `super().greet() `statement is used to call the greet method of the BaseClass, allowing the derived class to extend the base class's greeting message."
      ]
    },
    {
      "cell_type": "code",
      "execution_count": 1,
      "metadata": {
        "colab": {
          "base_uri": "https://localhost:8080/"
        },
        "id": "FUypMd7o9J3u",
        "outputId": "edcd2755-ce14-4486-c6b4-2973e62d1a7a"
      },
      "outputs": [
        {
          "name": "stdout",
          "output_type": "stream",
          "text": [
            "Hello, John!\n",
            "You are 25 years old.\n"
          ]
        }
      ],
      "source": [
        "class BaseClass:\n",
        "    def __init__(self, name):\n",
        "        self.name = name\n",
        "\n",
        "    def greet(self):\n",
        "        print(f\"Hello, {self.name}!\")\n",
        "\n",
        "class DerivedClass(BaseClass):\n",
        "    def __init__(self, name, age):\n",
        "        super().__init__(name)  # Call the base class constructor\n",
        "        self.age = age\n",
        "\n",
        "    def greet(self):\n",
        "        super().greet()  # Call the base class method\n",
        "        print(f\"You are {self.age} years old.\")\n",
        "\n",
        "# Create an instance of the derived class\n",
        "person = DerivedClass(\"John\", 25)\n",
        "person.greet()"
      ]
    },
    {
      "cell_type": "markdown",
      "metadata": {
        "id": "IDgdCO4RAEp9"
      },
      "source": [
        "## Question 6\n",
        "\n",
        "### Create a base class called \"Vehicle\" with attributes like \"make\", \"model\", and \"year\". Then, create a derived class called \"Car\" that inherits from \"Vehicle\" and adds an attribute called `\"fuel_type\"`. Implement appropriate methods in both classes."
      ]
    },
    {
      "cell_type": "code",
      "execution_count": 3,
      "metadata": {
        "colab": {
          "base_uri": "https://localhost:8080/"
        },
        "id": "VjHfTNOPAAr8",
        "outputId": "665a302d-00fb-4c27-aee3-f4a42e587918"
      },
      "outputs": [
        {
          "name": "stdout",
          "output_type": "stream",
          "text": [
            "Vehicle Information:\n",
            "Make: Toyota\n",
            "Model: Camry\n",
            "Year: 2022\n",
            "\n",
            "Vehicle Information:\n",
            "Make: Ford\n",
            "Model: Mustang\n",
            "Year: 2023\n",
            "Fuel Type: Gasoline\n"
          ]
        }
      ],
      "source": [
        "class Vehicle:\n",
        "    def __init__(self, make, model, year):\n",
        "        self.make = make\n",
        "        self.model = model\n",
        "        self.year = year\n",
        "\n",
        "    def display_info(self):\n",
        "        print(\"Vehicle Information:\")\n",
        "        print(\"Make:\", self.make)\n",
        "        print(\"Model:\", self.model)\n",
        "        print(\"Year:\", self.year)\n",
        "\n",
        "\n",
        "class Car(Vehicle):\n",
        "    def __init__(self, make, model, year, fuel_type):\n",
        "        super().__init__(make, model, year)\n",
        "        self.fuel_type = fuel_type\n",
        "\n",
        "    def display_info(self):\n",
        "        super().display_info()\n",
        "        print(\"Fuel Type:\", self.fuel_type)\n",
        "\n",
        "\n",
        "# Example usage:\n",
        "vehicle = Vehicle(\"Toyota\", \"Camry\", 2022)\n",
        "vehicle.display_info()\n",
        "print()\n",
        "car = Car(\"Ford\", \"Mustang\", 2023, \"Gasoline\")\n",
        "car.display_info()\n"
      ]
    },
    {
      "cell_type": "markdown",
      "metadata": {
        "id": "XxHQm6PeAr4k"
      },
      "source": [
        "## Question 7\n",
        "\n",
        "### Create a base class called \"Employee\" with attributes like \"name\" and \"salary.\" Derive two classes, \"Manager\" and \"Developer,\" from \"Employee.\" Add an additional attribute called \"department\" for the \"Manager\" class and \"programming_language\" for the \"Developer\" class."
      ]
    },
    {
      "cell_type": "code",
      "execution_count": 4,
      "metadata": {
        "colab": {
          "base_uri": "https://localhost:8080/"
        },
        "id": "GQpvc466ApIj",
        "outputId": "d0ae5e3c-7b3c-4022-c087-c92a704674f5"
      },
      "outputs": [
        {
          "name": "stdout",
          "output_type": "stream",
          "text": [
            "Employee Information:\n",
            "Name: Sakalya Mitra\n",
            "Salary: 5000\n",
            "Employee Information:\n",
            "Name: Ram Arora\n",
            "Salary: 8000\n",
            "Department: IT\n",
            "Employee Information:\n",
            "Name: Sheetal Aggarwala\n",
            "Salary: 6000\n",
            "Programming Language: Python\n"
          ]
        }
      ],
      "source": [
        "class Employee:\n",
        "    def __init__(self, name, salary):\n",
        "        self.name = name\n",
        "        self.salary = salary\n",
        "\n",
        "    def display_info(self):\n",
        "        print(\"Employee Information:\")\n",
        "        print(\"Name:\", self.name)\n",
        "        print(\"Salary:\", self.salary)\n",
        "\n",
        "\n",
        "class Manager(Employee):\n",
        "    def __init__(self, name, salary, department):\n",
        "        super().__init__(name, salary)\n",
        "        self.department = department\n",
        "\n",
        "    def display_info(self):\n",
        "        super().display_info()\n",
        "        print(\"Department:\", self.department)\n",
        "\n",
        "\n",
        "class Developer(Employee):\n",
        "    def __init__(self, name, salary, programming_language):\n",
        "        super().__init__(name, salary)\n",
        "        self.programming_language = programming_language\n",
        "\n",
        "    def display_info(self):\n",
        "        super().display_info()\n",
        "        print(\"Programming Language:\", self.programming_language)\n",
        "\n",
        "\n",
        "# Example usage:\n",
        "employee = Employee(\"Sakalya Mitra\", 5000)\n",
        "employee.display_info()\n",
        "\n",
        "manager = Manager(\"Ram Arora\", 8000, \"IT\")\n",
        "manager.display_info()\n",
        "\n",
        "developer = Developer(\"Sheetal Aggarwala\", 6000, \"Python\")\n",
        "developer.display_info()\n"
      ]
    },
    {
      "cell_type": "markdown",
      "metadata": {
        "id": "jn9upzRtAz77"
      },
      "source": [
        "## Question 8\n",
        "\n",
        "### Design a base class called \"Shape\" with attributes like \"colour\" and \"border_width.\" Create derived classes, \"Rectangle\" and \"Circle,\" that inherit from \"Shape\" and add specific attributes like \"length\" and \"width\" for the \"Rectangle\" class and \"radius\" for the \"Circle\" class."
      ]
    },
    {
      "cell_type": "code",
      "execution_count": 7,
      "metadata": {
        "colab": {
          "base_uri": "https://localhost:8080/"
        },
        "id": "nynevarTA4Zi",
        "outputId": "e08dcfab-ef61-443e-90e0-32364af05531"
      },
      "outputs": [
        {
          "name": "stdout",
          "output_type": "stream",
          "text": [
            "Shape Information:\n",
            "Colour: Red\n",
            "Border Width: 2\n",
            "\n",
            "Shape Information:\n",
            "Colour: Blue\n",
            "Border Width: 1\n",
            "Length: 5\n",
            "Width: 3\n",
            "\n",
            "Shape Information:\n",
            "Colour: Green\n",
            "Border Width: 1\n",
            "Radius: 3\n"
          ]
        }
      ],
      "source": [
        "class Shape:\n",
        "    def __init__(self, colour, border_width):\n",
        "        self.colour = colour\n",
        "        self.border_width = border_width\n",
        "\n",
        "    def display_info(self):\n",
        "        print(\"Shape Information:\")\n",
        "        print(\"Colour:\", self.colour)\n",
        "        print(\"Border Width:\", self.border_width)\n",
        "\n",
        "\n",
        "class Rectangle(Shape):\n",
        "    def __init__(self, colour, border_width, length, width):\n",
        "        super().__init__(colour, border_width)\n",
        "        self.length = length\n",
        "        self.width = width\n",
        "\n",
        "    def display_info(self):\n",
        "        super().display_info()\n",
        "        print(\"Length:\", self.length)\n",
        "        print(\"Width:\", self.width)\n",
        "\n",
        "\n",
        "class Circle(Shape):\n",
        "    def __init__(self, colour, border_width, radius):\n",
        "        super().__init__(colour, border_width)\n",
        "        self.radius = radius\n",
        "\n",
        "    def display_info(self):\n",
        "        super().display_info()\n",
        "        print(\"Radius:\", self.radius)\n",
        "\n",
        "\n",
        "# Example usage:\n",
        "shape = Shape(\"Red\", 2)\n",
        "shape.display_info()\n",
        "print()\n",
        "rectangle = Rectangle(\"Blue\", 1, 5, 3)\n",
        "rectangle.display_info()\n",
        "print()\n",
        "circle = Circle(\"Green\", 1, 3)\n",
        "circle.display_info()\n"
      ]
    },
    {
      "cell_type": "markdown",
      "metadata": {
        "id": "W9whPIdFA4w1"
      },
      "source": [
        "## Question 9\n",
        "\n",
        "### Create a base class called \"Device\" with attributes like \"brand\" and \"model.\" Derive two classes, \"Phone\" and \"Tablet,\" from \"Device.\" Add specific attributes like \"screen_size\" for the \"Phone\" class and \"battery_capacity\" for the \"Tablet\" class."
      ]
    },
    {
      "cell_type": "code",
      "execution_count": 9,
      "metadata": {
        "colab": {
          "base_uri": "https://localhost:8080/"
        },
        "id": "VtZisihWA9j4",
        "outputId": "5ec92d14-c0a1-46d4-df71-8d6e869755c6"
      },
      "outputs": [
        {
          "name": "stdout",
          "output_type": "stream",
          "text": [
            "Device Information:\n",
            "Brand: Oppo\n",
            "Model: Reno 8\n",
            "\n",
            "Device Information:\n",
            "Brand: One Plus\n",
            "Model: Nord Ce 3 Lite 5G\n",
            "Screen Size: 6.3 inches\n",
            "\n",
            "Device Information:\n",
            "Brand: Apple\n",
            "Model: iPad Pro\n",
            "Battery Capacity: 9720 mAh\n"
          ]
        }
      ],
      "source": [
        "class Device:\n",
        "    def __init__(self, brand, model):\n",
        "        self.brand = brand\n",
        "        self.model = model\n",
        "\n",
        "    def display_info(self):\n",
        "        print(\"Device Information:\")\n",
        "        print(\"Brand:\", self.brand)\n",
        "        print(\"Model:\", self.model)\n",
        "\n",
        "\n",
        "class Phone(Device):\n",
        "    def __init__(self, brand, model, screen_size):\n",
        "        super().__init__(brand, model)\n",
        "        self.screen_size = screen_size\n",
        "\n",
        "    def display_info(self):\n",
        "        super().display_info()\n",
        "        print(\"Screen Size:\", self.screen_size)\n",
        "\n",
        "\n",
        "class Tablet(Device):\n",
        "    def __init__(self, brand, model, battery_capacity):\n",
        "        super().__init__(brand, model)\n",
        "        self.battery_capacity = battery_capacity\n",
        "\n",
        "    def display_info(self):\n",
        "        super().display_info()\n",
        "        print(\"Battery Capacity:\", self.battery_capacity)\n",
        "\n",
        "\n",
        "# Example usage:\n",
        "device = Device(\"Oppo\", \"Reno 8\")\n",
        "device.display_info()\n",
        "print()\n",
        "phone = Phone(\"One Plus\", \"Nord Ce 3 Lite 5G\", \"6.3 inches\")\n",
        "phone.display_info()\n",
        "print()\n",
        "tablet = Tablet(\"Apple\", \"iPad Pro\", \"9720 mAh\")\n",
        "tablet.display_info()\n"
      ]
    },
    {
      "cell_type": "markdown",
      "metadata": {
        "id": "vEs7t81hBKyB"
      },
      "source": [
        "## Question 10\n",
        "\n",
        "### Create a base class called \"BankAccount\" with attributes like \"account_number\" and \"balance.\" Derive two classes, \"SavingsAccount\" and \"CheckingAccount,\" from \"BankAccount.\" Add specific methods like \"calculate_interest\" for the \"SavingsAccount\" class and \"deduct_fees\" for the \"CheckingAccount\" class."
      ]
    },
    {
      "cell_type": "code",
      "execution_count": 11,
      "metadata": {
        "colab": {
          "base_uri": "https://localhost:8080/"
        },
        "id": "tkckuoTiBPSh",
        "outputId": "58bcca15-d883-4318-ec64-84a489e5344f"
      },
      "outputs": [
        {
          "name": "stdout",
          "output_type": "stream",
          "text": [
            "Bank Account Information:\n",
            "Account Number: 123456789\n",
            "Balance: 1000\n",
            "\n",
            "Bank Account Information:\n",
            "Account Number: 987654321\n",
            "Balance: 5000\n",
            "Interest calculated and added to the account.\n",
            "Bank Account Information:\n",
            "Account Number: 987654321\n",
            "Balance: 5250.0\n",
            "\n",
            "Bank Account Information:\n",
            "Account Number: 456789123\n",
            "Balance: 2000\n",
            "Fees deducted from the account.\n",
            "Bank Account Information:\n",
            "Account Number: 456789123\n",
            "Balance: 1950\n"
          ]
        }
      ],
      "source": [
        "class BankAccount:\n",
        "    def __init__(self, account_number, balance):\n",
        "        self.account_number = account_number\n",
        "        self.balance = balance\n",
        "\n",
        "    def display_info(self):\n",
        "        print(\"Bank Account Information:\")\n",
        "        print(\"Account Number:\", self.account_number)\n",
        "        print(\"Balance:\", self.balance)\n",
        "\n",
        "\n",
        "class SavingsAccount(BankAccount):\n",
        "    def __init__(self, account_number, balance):\n",
        "        super().__init__(account_number, balance)\n",
        "\n",
        "    def calculate_interest(self, interest_rate):\n",
        "        interest = self.balance * interest_rate\n",
        "        self.balance += interest\n",
        "        print(\"Interest calculated and added to the account.\")\n",
        "\n",
        "\n",
        "class CheckingAccount(BankAccount):\n",
        "    def __init__(self, account_number, balance):\n",
        "        super().__init__(account_number, balance)\n",
        "\n",
        "    def deduct_fees(self, fee_amount):\n",
        "        if self.balance >= fee_amount:\n",
        "            self.balance -= fee_amount\n",
        "            print(\"Fees deducted from the account.\")\n",
        "        else:\n",
        "            print(\"Insufficient balance to deduct fees.\")\n",
        "\n",
        "\n",
        "# Example usage:\n",
        "account = BankAccount(\"123456789\", 1000)\n",
        "account.display_info()\n",
        "print()\n",
        "savings_account = SavingsAccount(\"987654321\", 5000)\n",
        "savings_account.display_info()\n",
        "savings_account.calculate_interest(0.05)\n",
        "savings_account.display_info()\n",
        "print()\n",
        "checking_account = CheckingAccount(\"456789123\", 2000)\n",
        "checking_account.display_info()\n",
        "checking_account.deduct_fees(50)\n",
        "checking_account.display_info()\n"
      ]
    }
  ],
  "metadata": {
    "colab": {
      "provenance": []
    },
    "kernelspec": {
      "display_name": "Python 3",
      "name": "python3"
    },
    "language_info": {
      "name": "python"
    }
  },
  "nbformat": 4,
  "nbformat_minor": 0
}
