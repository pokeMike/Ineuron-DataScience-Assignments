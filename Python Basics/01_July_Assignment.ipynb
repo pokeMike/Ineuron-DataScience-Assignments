{
  "cells": [
    {
      "cell_type": "markdown",
      "metadata": {
        "id": "RDQoqaWsmr1r"
      },
      "source": [
        "# Assignment 1st July"
      ]
    },
    {
      "cell_type": "markdown",
      "metadata": {
        "id": "AiqFzygcmsDr"
      },
      "source": [
        "## Question 1\n",
        "\n",
        "### What is the primary goal of Object-Oriented Programming (OOP)?\n",
        "\n",
        "### Answer\n",
        "\n",
        "- The primary goal of Object-Oriented Programming (OOP) is to organize and structure code in a way that models real-world objects and their interactions. OOP promotes the concept of objects, which are instances of classes, and focuses on encapsulation, inheritance, and polymorphism to create modular and reusable code.\n",
        "- It aims to improve code readability, maintainability, and flexibility by organizing related data and behavior into modular units."
      ]
    },
    {
      "cell_type": "markdown",
      "metadata": {
        "id": "bce-E_b0wdC8"
      },
      "source": [
        "## Question 2\n",
        "\n",
        "### What is an object in Python?\n",
        "\n",
        "### Answer\n",
        "\n",
        "- In Python, an object is a specific instance of a class.\n",
        "- It can be any real-world entity or concept that the class represents.\n",
        "- Objects have their own unique state (data) and behavior (methods).\n",
        "- For example, if we have a class called `\"Car\"` an object of that class could represent a specific car with its own characteristics, such as color, model, and mileage."
      ]
    },
    {
      "cell_type": "markdown",
      "metadata": {
        "id": "c-4yK14ZwpFP"
      },
      "source": [
        "## Question 3\n",
        "\n",
        "### What is a class in Python?\n",
        "\n",
        "### Answer\n",
        "\n",
        "- A class in Python is a blueprint or template for creating objects.\n",
        "- It defines the attributes (data) and methods (behavior) that objects of the class will possess.\n",
        "- We can think of a class as a blueprint for a house, while the objects are actual instances of that house. Classes provide a way to create and organize objects with similar characteristics and behavior."
      ]
    },
    {
      "cell_type": "markdown",
      "metadata": {
        "id": "vphJUvGpw3gt"
      },
      "source": [
        "## Question 4\n",
        "\n",
        "### What are attributes and methods in a class?\n",
        "\n",
        "### Answer\n",
        "\n",
        "- In a class, attributes are variables that hold data associated with objects created from that class. They represent the state or characteristics of an object.\n",
        "- Methods, on the other hand, are functions defined within a class that define the behavior or actions that objects of the class can perform. They operate on the data (attributes) of the class and can modify or retrieve that data."
      ]
    },
    {
      "cell_type": "markdown",
      "metadata": {
        "id": "oL95RfyDxDwx"
      },
      "source": [
        "## Question 5\n",
        "\n",
        "### What is the difference between class variables and instance variables in Python?\n",
        "\n",
        "### Answer\n",
        "\n",
        "The main difference between class variables and instance variables in Python is their scope and access.\n",
        "\n",
        "- Class variables are variables defined within the class but outside any method. They are shared among all instances of the class. Any modification to a class variable affects all instances of that class.\n",
        "- Class variables are accessed using the class name or through an instance of the class.\n",
        "- Instance variables, also known as instance attributes, are unique to each instance of a class.\n",
        "- They are defined within a class's methods and are specific to each object created from the class. Instance variables can store different values for each object.\n",
        "Here's an example to illustrate the difference:\n",
        "\n",
        "```python\n",
        "class Car:\n",
        "    # Class variable\n",
        "    wheels = 4\n",
        "\n",
        "    def __init__(self, color):\n",
        "        # Instance variable\n",
        "        self.color = color\n",
        "\n",
        "# Accessing class variable\n",
        "print(Car.wheels)  # Output: 4\n",
        "\n",
        "# Creating instances\n",
        "car1 = Car(\"red\")\n",
        "car2 = Car(\"blue\")\n",
        "\n",
        "# Accessing instance variables\n",
        "print(car1.color)  # Output: red\n",
        "print(car2.color)  # Output: blue\n",
        "\n",
        "```\n",
        "\n",
        "In this example, the class variable wheels is shared among all instances of the class Car. The instance variable color, on the other hand, is specific to each object created from the class."
      ]
    },
    {
      "cell_type": "code",
      "execution_count": 1,
      "metadata": {
        "colab": {
          "base_uri": "https://localhost:8080/"
        },
        "id": "0iBhFs1gmrRZ",
        "outputId": "39efb944-9152-4ef9-a9b1-01dbb238a038"
      },
      "outputs": [
        {
          "name": "stdout",
          "output_type": "stream",
          "text": [
            "4\n",
            "red\n",
            "blue\n"
          ]
        }
      ],
      "source": [
        "class Car:\n",
        "    # Class variable\n",
        "    wheels = 4\n",
        "\n",
        "    def __init__(self, color):\n",
        "        # Instance variable\n",
        "        self.color = color\n",
        "\n",
        "# Accessing class variable\n",
        "print(Car.wheels)  # Output: 4\n",
        "\n",
        "# Creating instances\n",
        "car1 = Car(\"red\")\n",
        "car2 = Car(\"blue\")\n",
        "\n",
        "# Accessing instance variables\n",
        "print(car1.color)  # Output: red\n",
        "print(car2.color)  # Output: blue"
      ]
    },
    {
      "cell_type": "markdown",
      "metadata": {
        "id": "Yza8MdAS0pl1"
      },
      "source": [
        "## Question 6\n",
        "\n",
        "### What is the purpose of the self parameter in Python class methods?\n",
        "\n",
        "### Answer\n",
        "\n",
        "- The `self` parameter in Python class methods represents the instance of the class itself.\n",
        "- It is a convention in Python to name this first parameter as `self`, although any valid parameter name can be used.\n",
        "- The purpose of `self` is to allow access to the instance variables and other methods within the class.\n",
        "- When a method is called on an object, Python automatically passes the object instance as the first argument to the method.\n",
        "- By convention, this first argument is named `self` to reference the object itself. It allows methods to access and modify the instance's attributes.\n",
        "\n",
        "For example:\n",
        "```python\n",
        "class Car:\n",
        "    def __init__(self, color):\n",
        "        self.color = color\n",
        "\n",
        "    def get_color(self):\n",
        "        return self.color\n",
        "\n",
        "# Creating an instance\n",
        "car = Car(\"red\")\n",
        "\n",
        "# Calling the method on the instance\n",
        "print(car.get_color())  # Output: red\n",
        "```\n",
        "\n",
        "In this example, the get_color method uses self to access the color attribute of the object. By using self.color, it can retrieve the specific color associated with that instance of the class."
      ]
    },
    {
      "cell_type": "code",
      "execution_count": 2,
      "metadata": {
        "colab": {
          "base_uri": "https://localhost:8080/"
        },
        "id": "9ZG6bNLw0oiI",
        "outputId": "22f5f915-8d8d-437b-a2be-7dcc98ed84e2"
      },
      "outputs": [
        {
          "name": "stdout",
          "output_type": "stream",
          "text": [
            "red\n"
          ]
        }
      ],
      "source": [
        "class Car:\n",
        "    def __init__(self, color):\n",
        "        self.color = color\n",
        "\n",
        "    def get_color(self):\n",
        "        return self.color\n",
        "\n",
        "# Creating an instance\n",
        "car = Car(\"red\")\n",
        "\n",
        "# Calling the method on the instance\n",
        "print(car.get_color())"
      ]
    },
    {
      "cell_type": "markdown",
      "metadata": {
        "id": "J1uBax5a1b7H"
      },
      "source": [
        "## Question 7\n",
        "\n",
        "For a library management system, you have to design the \"Book\" class with OOP\n",
        "principles in mind. The “Book” class will have following attributes:\n",
        "- title: Represents the title of the book.\n",
        "- author: Represents the author(s) of the book.\n",
        "- isbn: Represents the ISBN (International Standard Book Number) of the book.\n",
        "- publication_year: Represents the year of publication of the book.\n",
        "- available_copies: Represents the number of copies available for checkout.\n",
        "\n",
        "The class will also include the following methods:\n",
        "- check_out(self): Decrements the available copies by one if there are copies\n",
        "available for checkout.\n",
        "- return_book(self): Increments the available copies by one when a book is\n",
        "returned.\n",
        "- display_book_info(self): Displays the information about the book, including its attributes and the number of available copies."
      ]
    },
    {
      "cell_type": "code",
      "execution_count": 3,
      "metadata": {
        "colab": {
          "base_uri": "https://localhost:8080/"
        },
        "id": "6KEWBxo31bIB",
        "outputId": "cf69a09b-1e17-4195-d8f1-0bf963c562da"
      },
      "outputs": [
        {
          "name": "stdout",
          "output_type": "stream",
          "text": [
            "Book Information:\n",
            "Title: The Psychology of Money\n",
            "Author(s): Morgan Housel\n",
            "ISBN: 9781804090114\n",
            "Publication Year: 2022\n",
            "Available Copies: 3\n",
            "Book checked out successfully.\n",
            "Book checked out successfully.\n",
            "Book returned successfully.\n",
            "Book Information:\n",
            "Title: The Psychology of Money\n",
            "Author(s): Morgan Housel\n",
            "ISBN: 9781804090114\n",
            "Publication Year: 2022\n",
            "Available Copies: 2\n"
          ]
        }
      ],
      "source": [
        "class Book:\n",
        "    def __init__(self, title, author, isbn, publication_year, available_copies):\n",
        "        self.title = title\n",
        "        self.author = author\n",
        "        self.isbn = isbn\n",
        "        self.publication_year = publication_year\n",
        "        self.available_copies = available_copies\n",
        "\n",
        "    def check_out(self):\n",
        "        if self.available_copies > 0:\n",
        "            self.available_copies -= 1\n",
        "            print(\"Book checked out successfully.\")\n",
        "        else:\n",
        "            print(\"No copies available for checkout.\")\n",
        "\n",
        "    def return_book(self):\n",
        "        self.available_copies += 1\n",
        "        print(\"Book returned successfully.\")\n",
        "\n",
        "    def display_book_info(self):\n",
        "        print(\"Book Information:\")\n",
        "        print(\"Title:\", self.title)\n",
        "        print(\"Author(s):\", self.author)\n",
        "        print(\"ISBN:\", self.isbn)\n",
        "        print(\"Publication Year:\", self.publication_year)\n",
        "        print(\"Available Copies:\", self.available_copies)\n",
        "\n",
        "# Example usage:\n",
        "book = Book(\"The Psychology of Money\", \"Morgan Housel\", \"9781804090114\", 2022, 3)\n",
        "book.display_book_info()  # Display book information\n",
        "book.check_out()  # Checkout a copy\n",
        "book.check_out()  # Checkout another copy\n",
        "book.return_book()  # Return a copy\n",
        "book.display_book_info()  # Display updated book information"
      ]
    },
    {
      "cell_type": "markdown",
      "metadata": {
        "id": "dFFWlzPm2ZD8"
      },
      "source": [
        "## Question 8\n",
        "\n",
        "For a ticket booking system, you have to design the \"Ticket\" class with OOP\n",
        "principles in mind. The “Ticket” class should have the following attributes:\n",
        "- ticket_id: Represents the unique identifier for the ticket.\n",
        "- event_name: Represents the name of the event.\n",
        "- event_date: Represents the date of the event.\n",
        "- venue: Represents the venue of the event.\n",
        "- seat_number: Represents the seat number associated with the ticket.\n",
        "- price: Represents the price of the ticket.\n",
        "- is_reserved: Represents the reservation status of the ticket.\n",
        "\n",
        "The class also includes the following methods:\n",
        "- reserve_ticket(self): Marks the ticket as reserved if it is not already reserved.\n",
        "- cancel_reservation(self): Cancels the reservation of the ticket if it is already\n",
        "reserved.\n",
        "- display_ticket_info(self): Displays the information about the ticket, including its\n",
        "attributes and reservation status."
      ]
    },
    {
      "cell_type": "code",
      "execution_count": 5,
      "metadata": {
        "colab": {
          "base_uri": "https://localhost:8080/"
        },
        "id": "xA9Pjph82TDd",
        "outputId": "e0507f98-45ae-43a4-ee1f-a6e931db4ed5"
      },
      "outputs": [
        {
          "name": "stdout",
          "output_type": "stream",
          "text": [
            "Ticket Information:\n",
            "Ticket ID: 1\n",
            "Event Name: iNeuron Meetup\n",
            "Event Date: 15-07-2023\n",
            "Venue: Bangalore\n",
            "Seat Number: A12\n",
            "Price: 600\n",
            "Reservation Status: Not Reserved\n",
            "Ticket reserved successfully.\n",
            "Ticket is already reserved.\n",
            "Reservation cancelled successfully.\n",
            "Ticket Information:\n",
            "Ticket ID: 1\n",
            "Event Name: iNeuron Meetup\n",
            "Event Date: 15-07-2023\n",
            "Venue: Bangalore\n",
            "Seat Number: A12\n",
            "Price: 600\n",
            "Reservation Status: Not Reserved\n"
          ]
        }
      ],
      "source": [
        "class Ticket:\n",
        "    def __init__(self, ticket_id, event_name, event_date, venue, seat_number, price):\n",
        "        self.ticket_id = ticket_id\n",
        "        self.event_name = event_name\n",
        "        self.event_date = event_date\n",
        "        self.venue = venue\n",
        "        self.seat_number = seat_number\n",
        "        self.price = price\n",
        "        self.is_reserved = False\n",
        "\n",
        "    def reserve_ticket(self):\n",
        "        if not self.is_reserved:\n",
        "            self.is_reserved = True\n",
        "            print(\"Ticket reserved successfully.\")\n",
        "        else:\n",
        "            print(\"Ticket is already reserved.\")\n",
        "\n",
        "    def cancel_reservation(self):\n",
        "        if self.is_reserved:\n",
        "            self.is_reserved = False\n",
        "            print(\"Reservation cancelled successfully.\")\n",
        "        else:\n",
        "            print(\"Ticket is not reserved.\")\n",
        "\n",
        "    def display_ticket_info(self):\n",
        "        print(\"Ticket Information:\")\n",
        "        print(\"Ticket ID:\", self.ticket_id)\n",
        "        print(\"Event Name:\", self.event_name)\n",
        "        print(\"Event Date:\", self.event_date)\n",
        "        print(\"Venue:\", self.venue)\n",
        "        print(\"Seat Number:\", self.seat_number)\n",
        "        print(\"Price:\", self.price)\n",
        "        print(\"Reservation Status:\", \"Reserved\" if self.is_reserved else \"Not Reserved\")\n",
        "\n",
        "# Example usage:\n",
        "ticket = Ticket(1, \"iNeuron Meetup\", \"15-07-2023\", \"Bangalore\", \"A12\", 600)\n",
        "ticket.display_ticket_info()  # Display ticket information\n",
        "ticket.reserve_ticket()  # Reserve the ticket\n",
        "ticket.reserve_ticket()  # Attempt to reserve again\n",
        "ticket.cancel_reservation()  # Cancel the reservation\n",
        "ticket.display_ticket_info()  # Display updated ticket information"
      ]
    },
    {
      "cell_type": "markdown",
      "metadata": {
        "id": "Ez5JHX2O7lsf"
      },
      "source": [
        "## Question 9\n",
        "\n",
        "You are creating a shopping cart for an e-commerce website. Using OOP to model\n",
        "the \"ShoppingCart\" functionality the class should contain following attributes and methods:\n",
        "- items: Represents the list of items in the shopping cart.\n",
        "\n",
        "The class also includes the following methods:\n",
        "\n",
        "- add_item(self, item): Adds an item to the shopping cart by appending it to the\n",
        "list of items.\n",
        "- remove_item(self, item): Removes an item from the shopping cart if it exists in\n",
        "the list.\n",
        "- view_cart(self): Displays the items currently present in the shopping cart.\n",
        "- clear_cart(self): Clears all items from the shopping cart by reassigning an\n",
        "empty list to the items attribute."
      ]
    },
    {
      "cell_type": "code",
      "execution_count": 7,
      "metadata": {
        "colab": {
          "base_uri": "https://localhost:8080/"
        },
        "id": "Takg9RSW7Ryn",
        "outputId": "d182cb66-0c8f-4bc9-b33c-876559513ead"
      },
      "outputs": [
        {
          "name": "stdout",
          "output_type": "stream",
          "text": [
            "Shopping Cart is empty.\n",
            "Item added to the shopping cart.\n",
            "Item added to the shopping cart.\n",
            "Shopping Cart:\n",
            "- ChocoPie\n",
            "- Oreo Biscuits\n",
            "Item removed from the shopping cart.\n",
            "Item not found in the shopping cart.\n",
            "Shopping Cart:\n",
            "- Oreo Biscuits\n",
            "Shopping Cart cleared.\n",
            "Shopping Cart is empty.\n"
          ]
        }
      ],
      "source": [
        "class ShoppingCart:\n",
        "    def __init__(self):\n",
        "        self.items = []\n",
        "\n",
        "    def add_item(self, item):\n",
        "        self.items.append(item)\n",
        "        print(\"Item added to the shopping cart.\")\n",
        "\n",
        "    def remove_item(self, item):\n",
        "        if item in self.items:\n",
        "            self.items.remove(item)\n",
        "            print(\"Item removed from the shopping cart.\")\n",
        "        else:\n",
        "            print(\"Item not found in the shopping cart.\")\n",
        "\n",
        "    def view_cart(self):\n",
        "        if self.items:\n",
        "            print(\"Shopping Cart:\")\n",
        "            for item in self.items:\n",
        "                print(\"-\", item)\n",
        "        else:\n",
        "            print(\"Shopping Cart is empty.\")\n",
        "\n",
        "    def clear_cart(self):\n",
        "        self.items = []\n",
        "        print(\"Shopping Cart cleared.\")\n",
        "\n",
        "# Example usage:\n",
        "cart = ShoppingCart()\n",
        "cart.view_cart()  # Display shopping cart (empty)\n",
        "cart.add_item(\"ChocoPie\")  # Add item to the cart\n",
        "cart.add_item(\"Oreo Biscuits\")  # Add another item to the cart\n",
        "cart.view_cart()  # Display shopping cart\n",
        "cart.remove_item(\"ChocoPie\")  # Remove item from the cart\n",
        "cart.remove_item(\"Thumbs Up\")  # Remove non-existing item from the cart\n",
        "cart.view_cart()  # Display updated shopping cart\n",
        "cart.clear_cart()  # Clear the shopping cart\n",
        "cart.view_cart()  # Display shopping cart (empty)\n"
      ]
    },
    {
      "cell_type": "markdown",
      "metadata": {
        "id": "YLummt7U8Bb-"
      },
      "source": [
        "## Question 10\n",
        "\n",
        "Imagine a school management system. You have to design the \"Student\" class using\n",
        "OOP concepts.The “Student” class has the following attributes:\n",
        "- name: Represents the name of the student.\n",
        "- age: Represents the age of the student.\n",
        "- grade: Represents the grade or class of the student.\n",
        "- student_id: Represents the unique identifier for the student.\n",
        "- attendance: Represents the attendance record of the student.\n",
        "\n",
        "The class should also include the following methods:\n",
        "- update_attendance(self, date, status): Updates the attendance record of the\n",
        "student for a given date with the provided status (e.g., present or absent).\n",
        "- get_attendance(self): Returns the attendance record of the student.\n",
        "- get_average_attendance(self): Calculates and returns the average\n",
        "attendance percentage of the student based on their attendance record."
      ]
    },
    {
      "cell_type": "code",
      "execution_count": 8,
      "metadata": {
        "colab": {
          "base_uri": "https://localhost:8080/"
        },
        "id": "UEVLu00K71ro",
        "outputId": "548f3178-de72-4879-bd25-b44eb20363e3"
      },
      "outputs": [
        {
          "name": "stdout",
          "output_type": "stream",
          "text": [
            "Attendance updated.\n",
            "Attendance updated.\n",
            "Attendance updated.\n",
            "Attendance Record: {'2023-07-01': 'present', '2023-07-02': 'absent', '2023-07-03': 'present'}\n",
            "Average Attendance: 66.66666666666666\n"
          ]
        }
      ],
      "source": [
        "class Student:\n",
        "    def __init__(self, name, age, grade, student_id):\n",
        "        self.name = name\n",
        "        self.age = age\n",
        "        self.grade = grade\n",
        "        self.student_id = student_id\n",
        "        self.attendance = {}\n",
        "\n",
        "    def update_attendance(self, date, status):\n",
        "        self.attendance[date] = status\n",
        "        print(\"Attendance updated.\")\n",
        "\n",
        "    def get_attendance(self):\n",
        "        return self.attendance\n",
        "\n",
        "    def get_average_attendance(self):\n",
        "        total_days = len(self.attendance)\n",
        "        present_days = sum(value == \"present\" for value in self.attendance.values())\n",
        "        attendance_percentage = (present_days / total_days) * 100 if total_days > 0 else 0\n",
        "        return attendance_percentage\n",
        "\n",
        "# Example usage:\n",
        "student = Student(\"Sakalya Mitra\", 21, 10, \"20MIM10056\")\n",
        "student.update_attendance(\"2023-07-01\", \"present\")\n",
        "student.update_attendance(\"2023-07-02\", \"absent\")\n",
        "student.update_attendance(\"2023-07-03\", \"present\")\n",
        "attendance_record = student.get_attendance()\n",
        "print(\"Attendance Record:\", attendance_record)\n",
        "average_attendance = student.get_average_attendance()\n",
        "print(\"Average Attendance:\", average_attendance)\n"
      ]
    }
  ],
  "metadata": {
    "colab": {
      "provenance": []
    },
    "kernelspec": {
      "display_name": "Python 3",
      "name": "python3"
    },
    "language_info": {
      "name": "python"
    }
  },
  "nbformat": 4,
  "nbformat_minor": 0
}
