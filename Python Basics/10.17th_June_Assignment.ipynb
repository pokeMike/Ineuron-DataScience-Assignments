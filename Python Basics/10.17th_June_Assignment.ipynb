{
  "cells": [
    {
      "cell_type": "markdown",
      "metadata": {
        "id": "yGgMYBmLyVk3"
      },
      "source": [
        "# Assignment 17th June"
      ]
    },
    {
      "cell_type": "markdown",
      "metadata": {
        "id": "C7FjrWzbyVw0"
      },
      "source": [
        "## Question 1\n",
        "\n",
        "### What is the role of try and exception block?\n",
        "\n",
        "### Answer\n",
        "\n",
        "- The try-except block is used in Python for exception handling.\n",
        "- It allows us to catch and handle exceptions that occur during the execution of our code.\n",
        "- When an exception occurs inside a try block, it is caught by an except block, which specifies how to handle the exception."
      ]
    },
    {
      "cell_type": "markdown",
      "metadata": {
        "id": "Lz7T0DaoyjEU"
      },
      "source": [
        "## Question 2\n",
        "\n",
        "### What is the syntax for a basic try-except block?\n",
        "\n",
        "### Answer:\n",
        "\n",
        "The basic syntax of try and excep block is\n",
        "\n",
        "```\n",
        "try:\n",
        "    # Code that may raise an exception\n",
        "    # ...\n",
        "except ExceptionType:\n",
        "    # Code to handle the exception\n",
        "    # ...\n",
        "```\n",
        "\n",
        "The `try` block contains the code that may potentially raise an exception. If an exception of the specified ExceptionType occurs within the `try` block, it is caught by the `except` block, which contains the code to handle the exception."
      ]
    },
    {
      "cell_type": "markdown",
      "metadata": {
        "id": "-L-wJI6j2LTo"
      },
      "source": [
        "## Question 3\n",
        "\n",
        "### What happens if an exception occurs inside a try block and there is no matching except block?\n",
        "\n",
        "### Answer:\n",
        "\n",
        "If an exception occurs inside a `try` block and there is no matching `except` block to handle that exception, the program will **terminate** and an **error message** will be displayed, indicating the unhandled exception. This can cause the program to crash and potentially leave any resources open."
      ]
    },
    {
      "cell_type": "markdown",
      "metadata": {
        "id": "bO6ZALre2mz1"
      },
      "source": [
        "## Question 4\n",
        "\n",
        "### What is the difference between using a bare except block and specifying a specific exception type?\n",
        "\n",
        "### Answer\n",
        "\n",
        "The difference between using a bare `except` block and specifying a specific exception type is that:\n",
        "- A bare `except` block catches all types of exceptions, whereas specifying a specific exception type allows you to catch and handle only that particular type of exception.\n",
        "- Using a specific exception type allows for more targeted and controlled exception handling, while a bare `except` block should generally be avoided as it can hide errors and make debugging more difficult."
      ]
    },
    {
      "cell_type": "markdown",
      "metadata": {
        "id": "IHBctpdx23no"
      },
      "source": [
        "## Question 5\n",
        "\n",
        "### Can you have nested try-except blocks in Python? If yes, then give an example.\n",
        "\n",
        "### Answer\n",
        "\n",
        "Yes, nested try-except blocks can be used in Python. This means that you can have a try-except block inside another try block.\n",
        "\n",
        "For example\n",
        "\n",
        "```\n",
        "try:\n",
        "    # Outer try block\n",
        "    # ...\n",
        "    try:\n",
        "        # Inner try block\n",
        "        # ...\n",
        "    except ExceptionType2:\n",
        "        # Inner except block\n",
        "        # ...\n",
        "except ExceptionType1:\n",
        "    # Outer except block\n",
        "    # ...\n",
        "```\n",
        "In this example, if an exception of `ExceptionType2` occurs in the inner try block, it will be caught by the inner except block. If an exception of `ExceptionType1` occurs in the outer try block or the inner except block, it will be caught by the outer except block."
      ]
    },
    {
      "cell_type": "code",
      "execution_count": 2,
      "metadata": {
        "colab": {
          "base_uri": "https://localhost:8080/"
        },
        "id": "1koHGGogxAGu",
        "outputId": "8be3bee4-83bd-4ad9-f7d6-99fa0218be1e"
      },
      "outputs": [
        {
          "name": "stdout",
          "output_type": "stream",
          "text": [
            "outer try block\n",
            "Inner try block\n"
          ]
        }
      ],
      "source": [
        "try:\n",
        "   print(\"outer try block\")\n",
        "   try:\n",
        "       print(\"Inner try block\")\n",
        "   except ZeroDivisionError:\n",
        "       print(\"Inner except block\")\n",
        "except:\n",
        "   print(\"outer except block\")"
      ]
    },
    {
      "cell_type": "markdown",
      "metadata": {
        "id": "HDXESj2y5COV"
      },
      "source": [
        "## Question 6\n",
        "\n",
        "### Can we use multiple exception blocks, if yes then give an example.\n",
        "\n",
        "### Answer\n",
        "\n",
        "Yes, you can use multiple except blocks to handle different types of exceptions.\n",
        "\n",
        "For example\n",
        "\n",
        "```\n",
        "try:\n",
        "    # Code that may raise exceptions\n",
        "    # ...\n",
        "except ExceptionType1:\n",
        "    # Code to handle ExceptionType1\n",
        "    # ...\n",
        "except ExceptionType2:\n",
        "    # Code to handle ExceptionType2\n",
        "    # ..\n",
        "```\n",
        "\n",
        "In this example, if an exception of `ExceptionType1` occurs, it will be caught and handled by the first except block. If an exception of `ExceptionType2` occurs, it will be caught and handled by the second except block."
      ]
    },
    {
      "cell_type": "code",
      "execution_count": 3,
      "metadata": {
        "colab": {
          "base_uri": "https://localhost:8080/"
        },
        "id": "_BTkmYk755ay",
        "outputId": "b8a980d0-b7ec-4ddc-b661-1d5808c09d9e"
      },
      "outputs": [
        {
          "name": "stdout",
          "output_type": "stream",
          "text": [
            "<class 'TypeError'> can only concatenate str (not \"int\") to str\n",
            "<class 'ValueError'> Integer Item has to be <= 200\n"
          ]
        }
      ],
      "source": [
        "input_list_1 = ['Hello', ' from', 123, 456, ' AskPython']\n",
        "input_list_2 = [123, 456, ' AskPython']\n",
        "\n",
        "def add_list(ip):\n",
        "    # Adds all items of a list\n",
        "    # Will raise ValueError if any integer item > 200\n",
        "    # and will raise TypeError if addition operands are of different types\n",
        "    if isinstance(ip, list):\n",
        "        result = '' if isinstance(ip[0], str) else 0\n",
        "        for item in ip:\n",
        "            if isinstance(item, int) and item > 200:\n",
        "                raise ValueError('Integer Item has to be <= 200')\n",
        "            result = result + item\n",
        "        return result\n",
        "    else:\n",
        "        return None\n",
        "\n",
        "try:\n",
        "    # Will raise TypeError\n",
        "    res = add_list(input_list_1)\n",
        "    print(res)\n",
        "except TypeError as te:\n",
        "    print(type(te), te)\n",
        "except ValueError as ve:\n",
        "    print(type(ve), ve)\n",
        "\n",
        "try:\n",
        "    # Will raise ValueError since 456 > 200\n",
        "    res = add_list(input_list_2)\n",
        "    print(res)\n",
        "except TypeError as te:\n",
        "    print(type(te), te)\n",
        "except ValueError as ve:\n",
        "    print(type(ve), ve)"
      ]
    },
    {
      "cell_type": "markdown",
      "metadata": {
        "id": "vVW0FEEq5bPk"
      },
      "source": [
        "## Question 7\n",
        "\n",
        "### Write the reason due to which following errors are raised:\n",
        "\n",
        "### Answer\n",
        "\n",
        "1. **EOFError:** This error is raised when there is an attempt to read input beyond the end-of-file (EOF) marker. For example, if you use the `input()` function to read user input, and the user closes the input stream, an EOFError will be raised.\n",
        "\n",
        "2. **FloatingPointError:** This error is raised when a floating-point operation fails to produce a valid result. It can occur in situations such as dividing by zero or performing an invalid mathematical operation.\n",
        "\n",
        "3. **IndexError:** This error is raised when an index is out of range for a sequence (e.g., list, tuple, string). It occurs when you try to access an element using an index that is either negative or greater than or equal to the length of the sequence.\n",
        "\n",
        "4. **MemoryError:** This error is raised when an operation fails due to insufficient memory. It occurs when the program attempts to allocate more memory than is available.\n",
        "\n",
        "5. **OverflowError:** This error is raised when the result of an arithmetic operation exceeds the maximum representable value for a numeric type. It occurs when you try to perform a calculation that exceeds the limits of the data type.\n",
        "\n",
        "6. **TabError:** This error is raised when inconsistent use of tabs and spaces is encountered in indentation. It occurs when there are issues with the indentation of the code, such as mixing tabs and spaces in the same block.\n",
        "\n",
        "7. **ValueError:** This error is raised when a function receives an argument of the correct data type but with an invalid value. It occurs when an inappropriate value is passed to a function or when a built-in operation or conversion fails due to an invalid value."
      ]
    },
    {
      "cell_type": "markdown",
      "metadata": {
        "id": "d9sptpSC57CQ"
      },
      "source": [
        "## Question 8\n",
        "\n",
        "### Write code for the following given scenario and add try-exception block to it.\n",
        "\n",
        "### Answer:\n",
        "\n"
      ]
    },
    {
      "cell_type": "markdown",
      "metadata": {
        "id": "m-vEiV7P7Vpa"
      },
      "source": [
        "### a. Program to divide two numbers:"
      ]
    },
    {
      "cell_type": "code",
      "execution_count": 4,
      "metadata": {
        "colab": {
          "base_uri": "https://localhost:8080/"
        },
        "id": "6mOkCihn4_AO",
        "outputId": "669f1d58-bcdf-4181-9765-aa979e0a35e0"
      },
      "outputs": [
        {
          "name": "stdout",
          "output_type": "stream",
          "text": [
            "Enter the numerator: 23\n",
            "Enter the denominator: 0\n",
            "Error: Division by zero is not allowed.\n"
          ]
        }
      ],
      "source": [
        "try:\n",
        "    numerator = int(input(\"Enter the numerator: \"))\n",
        "    denominator = int(input(\"Enter the denominator: \"))\n",
        "    result = numerator / denominator\n",
        "    print(\"Result:\", result)\n",
        "except ZeroDivisionError:\n",
        "    print(\"Error: Division by zero is not allowed.\")\n"
      ]
    },
    {
      "cell_type": "markdown",
      "metadata": {
        "id": "v_MApNC27TU0"
      },
      "source": [
        "### b. Program to convert a string to an integer:"
      ]
    },
    {
      "cell_type": "code",
      "execution_count": 5,
      "metadata": {
        "colab": {
          "base_uri": "https://localhost:8080/"
        },
        "id": "0erMwY5G6L1k",
        "outputId": "ebee6bf3-41b7-4c1c-be77-5021a291f2a6"
      },
      "outputs": [
        {
          "name": "stdout",
          "output_type": "stream",
          "text": [
            "Enter a number: ABCS\n",
            "Error: Invalid input. Please enter a valid integer.\n"
          ]
        }
      ],
      "source": [
        "\n",
        "try:\n",
        "    num_str = input(\"Enter a number: \")\n",
        "    num = int(num_str)\n",
        "    print(\"Number:\", num)\n",
        "except ValueError:\n",
        "    print(\"Error: Invalid input. Please enter a valid integer.\")\n"
      ]
    },
    {
      "cell_type": "markdown",
      "metadata": {
        "id": "8zc7AAy17RqF"
      },
      "source": [
        "### c. Program to access an element in a list:"
      ]
    },
    {
      "cell_type": "code",
      "execution_count": 6,
      "metadata": {
        "colab": {
          "base_uri": "https://localhost:8080/"
        },
        "id": "5CWnX1wl6PuY",
        "outputId": "5731e202-5258-448e-9bf0-da36130183b9"
      },
      "outputs": [
        {
          "name": "stdout",
          "output_type": "stream",
          "text": [
            "Enter an index: 2\n",
            "Value: 3\n"
          ]
        }
      ],
      "source": [
        "try:\n",
        "    my_list = [1, 2, 3]\n",
        "    index = int(input(\"Enter an index: \"))\n",
        "    value = my_list[index]\n",
        "    print(\"Value:\", value)\n",
        "except IndexError:\n",
        "    print(\"Error: Index out of range.\")\n"
      ]
    },
    {
      "cell_type": "markdown",
      "metadata": {
        "id": "LkH6IG_k61m-"
      },
      "source": [
        "### d. Program to handle a specific exception:\n",
        "\n",
        "```\n",
        "try:\n",
        "    # Code that may raise a specific exception\n",
        "    # ...\n",
        "except SpecificExceptionType as e:\n",
        "    # Code to handle the specific exception\n",
        "    # ...\n",
        "# Replace SpecificExceptionType with the actual exception type you want to handle, and e can be used to access the exception object.\n",
        "```"
      ]
    },
    {
      "cell_type": "code",
      "execution_count": 7,
      "metadata": {
        "colab": {
          "base_uri": "https://localhost:8080/"
        },
        "id": "Ga7MjkLT6TcP",
        "outputId": "462ee3ff-95af-4f53-cab4-333a7f3763f7"
      },
      "outputs": [
        {
          "name": "stdout",
          "output_type": "stream",
          "text": [
            "Index Out of Bound.\n"
          ]
        }
      ],
      "source": [
        "try:\n",
        "    even_numbers = [2,4,6,8]\n",
        "    print(even_numbers[5])\n",
        "\n",
        "except ZeroDivisionError:\n",
        "    print(\"Denominator cannot be 0.\")\n",
        "\n",
        "except IndexError:\n",
        "    print(\"Index Out of Bound.\")\n",
        "\n"
      ]
    },
    {
      "cell_type": "markdown",
      "metadata": {
        "id": "GFttjkHR7J7l"
      },
      "source": [
        "### e. Program to handle any exception:\n",
        "```\n",
        "try:\n",
        "    # Code that may raise exceptions\n",
        "    # ...\n",
        "except Exception as e:\n",
        "    # Code to handle any exception\n",
        "    # ...\n",
        "```\n",
        "\n",
        "In this case, the except block will catch any exception that occurs and assign it to the variable e for further handling."
      ]
    },
    {
      "cell_type": "code",
      "execution_count": 8,
      "metadata": {
        "colab": {
          "base_uri": "https://localhost:8080/"
        },
        "id": "x44qbyvl7Bjc",
        "outputId": "f4e80b6c-e8ef-47cf-9a2d-9d20274a7d03"
      },
      "outputs": [
        {
          "name": "stdout",
          "output_type": "stream",
          "text": [
            "It can be any exception\n"
          ]
        }
      ],
      "source": [
        "try:\n",
        "    even_numbers = [2,4,6,8]\n",
        "    print(even_numbers[5])\n",
        "\n",
        "except Exception as e:\n",
        "    print(\"It can be any exception\")"
      ]
    }
  ],
  "metadata": {
    "colab": {
      "provenance": []
    },
    "kernelspec": {
      "display_name": "Python 3",
      "name": "python3"
    },
    "language_info": {
      "name": "python"
    }
  },
  "nbformat": 4,
  "nbformat_minor": 0
}
