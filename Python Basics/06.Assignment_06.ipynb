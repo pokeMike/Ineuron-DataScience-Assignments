{
 "cells": [
  {
   "attachments": {},
   "cell_type": "markdown",
   "metadata": {},
   "source": [
    "# Assignment 6 Solutions\n",
    "# Python Basic - 1"
   ]
  },
  {
   "attachments": {},
   "cell_type": "markdown",
   "metadata": {},
   "source": [
    "#### 1.What are keywords in python? Using the keyword library, print all the python keywords.\n",
    "**Ans:** Keywords in Python are reserved words that have predefined meanings and are used to define the syntax and structure of the Python language. These keywords cannot be used as identifiers (e.g., variable names or function names) because they are already part of the Python language itself.\n",
    "You can access the list of keywords using the keyword library. Here's an example of how you can print all the Python keywords:"
   ]
  },
  {
   "cell_type": "code",
   "execution_count": 1,
   "metadata": {},
   "outputs": [
    {
     "name": "stdout",
     "output_type": "stream",
     "text": [
      "['False', 'None', 'True', 'and', 'as', 'assert', 'async', 'await', 'break', 'class', 'continue', 'def', 'del', 'elif', 'else', 'except', 'finally', 'for', 'from', 'global', 'if', 'import', 'in', 'is', 'lambda', 'nonlocal', 'not', 'or', 'pass', 'raise', 'return', 'try', 'while', 'with', 'yield']\n"
     ]
    }
   ],
   "source": [
    "import keyword\n",
    "\n",
    "all_keywords = keyword.kwlist\n",
    "print(all_keywords)"
   ]
  },
  {
   "attachments": {},
   "cell_type": "markdown",
   "metadata": {},
   "source": [
    "#### 2.What are the rules to create variables in python?\n",
    "**Ans:** Variables are used to store data values. When creating variables, you need to follow certain rules and conventions. Here are the rules to create variables in Python:\n",
    "\n",
    "1.Variable Names:\n",
    "- Variable names can contain letters (a-z, A-Z), digits (0-9), and underscores (_). They must start with a letter or an underscore.\n",
    "- Variable names are case-sensitive, so myVariable and myvariable are different variables.\n",
    "- Avoid using special characters like !, @, #, $, %, etc. in variable names.\n",
    "- Python keywords (reserved words) cannot be used as variable names.\n",
    "\n",
    "2.Naming Conventions:\n",
    "- It's recommended to use descriptive and meaningful names for variables to improve code readability.\n",
    "- Use lowercase letters and underscores to separate words in a variable name (e.g., my_variable, count_total).\n",
    "- For constants (variables whose values should not be changed), use uppercase letters and underscores (e.g., MAX_VALUE, PI).\n",
    "\n",
    "3.Assignment:\n",
    "- Variables are created when you assign a value to them using the assignment operator (=).\n",
    "- For example: x = 10 assigns the value 10 to the variable named x.\n",
    "\n",
    "4.Data Types:\n",
    "- Python is dynamically typed, meaning you don't need to explicitly specify the data type of a variable. The type of a variable is determined based on the value assigned to it.\n",
    "- You can assign different types of values to the same variable during the execution of the program."
   ]
  },
  {
   "attachments": {},
   "cell_type": "markdown",
   "metadata": {},
   "source": [
    "#### 3.What are the standards and conventions followed for the nomenclature of variables in python to improve code readability and maintainability?\n",
    "**Ans:** There are several standards and conventions followed for variable naming to improve code readability and maintainability. These conventions are often referred to as \"naming conventions\" and are widely adopted by the Python community. Here are some commonly followed standards:\n",
    "\n",
    "1.Use descriptive names: Choose variable names that are meaningful and describe the purpose or content of the variable. This helps in understanding the code without the need for extensive comments.\n",
    "\n",
    "2.Use lowercase with underscores: For most variables, it is recommended to use lowercase letters and underscores to separate words in the variable name. This convention is known as \"snake_case\". For example: total_count, user_name, average_score.\n",
    "\n",
    "3.Avoid single-character names: Unless the variable represents a well-known convention (e.g., x, y for coordinates), it's best to avoid single-letter variable names. Instead, use descriptive names that convey the purpose of the variable.\n",
    "\n",
    "4.Be consistent: Maintain consistency in variable naming throughout your codebase. Use the same conventions and patterns to make the code more predictable and easier to understand.\n",
    "\n",
    "5.Avoid reserved words: Do not use Python keywords (reserved words) as variable names. For example, avoid using words like for, if, while, and, etc. as variable names.\n",
    "\n",
    "6.Follow PEP 8: PEP 8 is the official style guide for Python code. It provides recommendations for various aspects of Python code, including variable naming. Adhering to PEP 8 helps maintain a consistent coding style across projects. Some key points from PEP 8 regarding variable naming are:\n",
    "- Module names should be in lowercase with underscores (e.g., `my_module.py`).\n",
    "- Class names should follow the CapWords convention (also known as PascalCase or CamelCase) where each word starts with an uppercase letter *(e.g., `MyClass`).\n",
    "- Constants should be written in uppercase with underscores (e.g., `MAX_VALUE`, `PI`).\n",
    "- Function and method names should be in lowercase with underscores (e.g., `calculate_average`, `get_user_name`).\n",
    "- Instance variables within a class should be prefixed with a single underscore (e.g., `_private_variable`).\n",
    "- Non-public methods and variables should be prefixed with two underscores (e.g., `__private_method`)."
   ]
  },
  {
   "attachments": {},
   "cell_type": "markdown",
   "metadata": {},
   "source": [
    "#### 4.What will happen if a keyword is used as a variable name?\n",
    "**Ans:** If you use a keyword as a variable name, it will result in a syntax error. Keywords are reserved words in the Python language and have predefined meanings and usages. They cannot be used as identifiers (such as variable names, function names, class names, etc.) because they are already part of the Python language itself.\n",
    "\n",
    "When you attempt to use a keyword as a variable name, Python will raise a SyntaxError and indicate that the keyword cannot be used as an identifier. This is a mechanism to ensure that the language syntax remains consistent and to prevent any potential conflicts or ambiguities in code."
   ]
  },
  {
   "attachments": {},
   "cell_type": "markdown",
   "metadata": {},
   "source": [
    "#### 5.For what purpose def keyword is used?\n",
    "**Ans:** The def keyword in Python is used to define a function. It is followed by the function name and a set of parentheses, which may contain parameters for the function. The function definition is typically followed by a colon (:) and an indented block of code that forms the function body.\n",
    "\n",
    "Here's an example of a simple function definition using the def keyword:"
   ]
  },
  {
   "cell_type": "code",
   "execution_count": 3,
   "metadata": {},
   "outputs": [],
   "source": [
    "def greet():\n",
    "    print(\"Hello, World!\")"
   ]
  },
  {
   "attachments": {},
   "cell_type": "markdown",
   "metadata": {},
   "source": [
    "In this example, the def keyword is used to define a function named greet(). The function body consists of a single line that prints the message \"Hello, World!\".\n",
    "\n",
    "Functions allow you to encapsulate a block of code that can be called and executed at different points in your program. By defining functions, you can modularize your code, promote reusability, and improve code organization and readability."
   ]
  },
  {
   "attachments": {},
   "cell_type": "markdown",
   "metadata": {},
   "source": [
    "#### 6.What is the operation of this special character ‘\\’?\n",
    "**Ans:** The special character `\\` in Python is known as the escape character. It is used to indicate that the character following it has a special meaning or should be treated differently. The `\\` character is typically used to create escape sequences, which are combinations of characters that represent special characters or actions.\n",
    "\n",
    "Here are some common uses of the escape character `\\` in Python:\n",
    "\n",
    "1. Escape sequences: The escape character is used to create escape sequences that represent special characters. For example:\n",
    "- `\\n` represents a newline character.\n",
    "- `\\t` represents a tab character.\n",
    "- `\\\"` represents a double quote character.\n",
    "- `\\'` represents a single quote character.\n",
    "- `\\\\` represents a backslash character.\n",
    "\n",
    "        Example usage:"
   ]
  },
  {
   "cell_type": "code",
   "execution_count": 4,
   "metadata": {},
   "outputs": [
    {
     "name": "stdout",
     "output_type": "stream",
     "text": [
      "Hello\n",
      "World\n",
      "I'm Python\n"
     ]
    }
   ],
   "source": [
    "print(\"Hello\\nWorld\")   # Output: Hello\n",
    "                        #         World\n",
    "\n",
    "print(\"I\\'m Python\")    # Output: I'm Python"
   ]
  },
  {
   "attachments": {},
   "cell_type": "markdown",
   "metadata": {},
   "source": [
    "2. Line continuation: The `\\` character is used as a line continuation character to split long lines of code into multiple lines for improved readability. It allows you to continue a statement onto the next line without generating a syntax error.\n",
    "\n",
    "        Example usage:"
   ]
  },
  {
   "cell_type": "code",
   "execution_count": 5,
   "metadata": {},
   "outputs": [],
   "source": [
    "long_string = \"This is a very long string that \\\n",
    "               spans across multiple lines.\""
   ]
  },
  {
   "attachments": {},
   "cell_type": "markdown",
   "metadata": {},
   "source": [
    "3. Unicode characters: The `\\u` and `\\U` escape sequences allow you to represent Unicode characters in Python. They are followed by a 4-digit or 8-digit hexadecimal value that represents the Unicode code point of the character.\n",
    "\n",
    "        Example usage:"
   ]
  },
  {
   "cell_type": "code",
   "execution_count": 6,
   "metadata": {},
   "outputs": [
    {
     "name": "stdout",
     "output_type": "stream",
     "text": [
      "α\n",
      "😀\n"
     ]
    }
   ],
   "source": [
    "print('\\u03B1')   # Output: α (Greek lowercase alpha)\n",
    "print('\\U0001F600')   # Output: 😀 (grinning face emoji)"
   ]
  },
  {
   "attachments": {},
   "cell_type": "markdown",
   "metadata": {},
   "source": [
    "#### 7.Give an example of the following conditions:\n",
    "    (i) Homogeneous list\n",
    "    (ii) Heterogeneous set\n",
    "    (iii) Homogeneous tuple\n",
    "**Ans.** Here are examples of each condition:\n",
    "1. **Homogeneous list**:\n",
    "A homogeneous list is a list in which all elements have the same data type. Here's an example of a homogeneous list containing integers:"
   ]
  },
  {
   "cell_type": "code",
   "execution_count": null,
   "metadata": {},
   "outputs": [],
   "source": [
    "numbers = [1, 2, 3, 4, 5]"
   ]
  },
  {
   "attachments": {},
   "cell_type": "markdown",
   "metadata": {},
   "source": [
    "In this example, all elements in the list numbers are integers.\n",
    "\n",
    "2. **Heterogeneous set**:\n",
    "A heterogeneous set is a set in which the elements can have different data types. Here's an example of a heterogeneous set containing different types of elements:"
   ]
  },
  {
   "cell_type": "code",
   "execution_count": null,
   "metadata": {},
   "outputs": [],
   "source": [
    "my_set = {1, 'hello', 3.14, True}"
   ]
  },
  {
   "attachments": {},
   "cell_type": "markdown",
   "metadata": {},
   "source": [
    "In this example, the set my_set contains an integer (1), a string ('hello'), a floating-point number (3.14), and a boolean value (True). The elements in the set can have different data types.\n",
    "\n",
    "3. **Homogeneous tuple**:\n",
    "A homogeneous tuple is a tuple in which all elements have the same data type. Here's an example of a homogeneous tuple containing strings:"
   ]
  },
  {
   "cell_type": "code",
   "execution_count": null,
   "metadata": {},
   "outputs": [],
   "source": [
    "fruits = ('apple', 'banana', 'orange', 'mango')"
   ]
  },
  {
   "attachments": {},
   "cell_type": "markdown",
   "metadata": {},
   "source": [
    "In this example, all elements in the tuple fruits are strings."
   ]
  },
  {
   "attachments": {},
   "cell_type": "markdown",
   "metadata": {},
   "source": [
    "#### 8.Explain the mutable and immutable data types with proper explanation & examples.\n",
    "**Ans:** Data types can be classified as either mutable or immutable based on whether their values can be changed after they are created. Understanding the difference between mutable and immutable data types is crucial because it affects how you work with and manipulate data.\n",
    "\n",
    "1. **Immutable Data Types**:\n",
    "Immutable data types are those whose values cannot be changed once they are created. If you try to modify an immutable object, a new object is created with the updated value. Examples of immutable data types in Python include:\n",
    "\n",
    "- Numbers (int, float, complex): Once assigned, the value of a number cannot be changed.\n",
    "- Strings: Strings are sequences of characters, and individual characters within a string cannot be modified directly.\n",
    "- Tuples: Tuples are ordered collections of elements, and once a tuple is created, its elements cannot be changed.\n",
    "\n",
    "Here's an example demonstrating the immutability of a string:"
   ]
  },
  {
   "cell_type": "code",
   "execution_count": null,
   "metadata": {},
   "outputs": [],
   "source": [
    "name = \"John\"\n",
    "new_name = name.replace(\"J\", \"M\")\n",
    "\n",
    "print(name)      # Output: John\n",
    "print(new_name)  # Output: Mon"
   ]
  },
  {
   "attachments": {},
   "cell_type": "markdown",
   "metadata": {},
   "source": [
    "In the example above, the `replace()` method is used to create a new string (`new_name`) with the modified value. The original string (`name`) remains unchanged.\n",
    "\n",
    "2. **Mutable Data Types**:\n",
    "Mutable data types, on the other hand, are those whose values can be modified after they are created. This means you can change, add, or remove elements within a mutable object. Examples of mutable data types in Python include:\n",
    "\n",
    "- Lists: Lists are ordered collections of elements, and you can modify their elements by accessing them through their indices.\n",
    "- Dictionaries: Dictionaries are key-value pairs, and you can add, modify, or remove key-value pairs within a dictionary.\n",
    "- Sets: Sets are unordered collections of unique elements, and you can add or remove elements from a set.\n",
    "\n",
    "Here's an example demonstrating the mutability of a list:"
   ]
  },
  {
   "cell_type": "code",
   "execution_count": null,
   "metadata": {},
   "outputs": [],
   "source": [
    "numbers = [1, 2, 3, 4]\n",
    "numbers[0] = 10\n",
    "\n",
    "print(numbers)  # Output: [10, 2, 3, 4]"
   ]
  },
  {
   "attachments": {},
   "cell_type": "markdown",
   "metadata": {},
   "source": [
    "In the example above, the first element of the list (`numbers[0]`) is modified by assigning a new value (`10`). The list is mutated, and its content is changed."
   ]
  },
  {
   "attachments": {},
   "cell_type": "markdown",
   "metadata": {},
   "source": [
    "#### 9. Write a code to create the given structure using only for loop.\n",
    "        *\n",
    "       ***\n",
    "      *****\n",
    "     *******\n",
    "    *********"
   ]
  },
  {
   "attachments": {},
   "cell_type": "markdown",
   "metadata": {},
   "source": [
    "**Ans.**"
   ]
  },
  {
   "cell_type": "code",
   "execution_count": 7,
   "metadata": {},
   "outputs": [
    {
     "name": "stdout",
     "output_type": "stream",
     "text": [
      "    *\n",
      "   ***\n",
      "  *****\n",
      " *******\n",
      "*********\n"
     ]
    }
   ],
   "source": [
    "rows = 5  # Number of rows in the structure\n",
    "\n",
    "for i in range(rows):\n",
    "    for j in range(rows - i - 1):\n",
    "        print(\" \", end=\"\")\n",
    "    for k in range(2 * i + 1):\n",
    "        print(\"*\", end=\"\")\n",
    "    print()\n"
   ]
  },
  {
   "attachments": {},
   "cell_type": "markdown",
   "metadata": {},
   "source": [
    "#### 10. Write a code to create the given structure using while loop.\n",
    "        *********\n",
    "         *******\n",
    "          *****\n",
    "           ***\n",
    "            *"
   ]
  },
  {
   "attachments": {},
   "cell_type": "markdown",
   "metadata": {},
   "source": [
    "**Ans:**"
   ]
  },
  {
   "cell_type": "code",
   "execution_count": 8,
   "metadata": {},
   "outputs": [
    {
     "name": "stdout",
     "output_type": "stream",
     "text": [
      "*********\n",
      " *******\n",
      "  *****\n",
      "   ***\n",
      "    *\n"
     ]
    }
   ],
   "source": [
    "rows = 5  # Number of rows in the structure\n",
    "spaces = 0  # Initial number of spaces\n",
    "\n",
    "while rows > 0:\n",
    "    i = spaces\n",
    "    while i > 0:\n",
    "        print(\" \", end=\"\")\n",
    "        i -= 1\n",
    "\n",
    "    j = 2 * rows - 1\n",
    "    while j > 0:\n",
    "        print(\"*\", end=\"\")\n",
    "        j -= 1\n",
    "\n",
    "    print()\n",
    "    spaces += 1\n",
    "    rows -= 1\n"
   ]
  }
 ],
 "metadata": {
  "kernelspec": {
   "display_name": "Python 3",
   "language": "python",
   "name": "python3"
  },
  "language_info": {
   "codemirror_mode": {
    "name": "ipython",
    "version": 3
   },
   "file_extension": ".py",
   "mimetype": "text/x-python",
   "name": "python",
   "nbconvert_exporter": "python",
   "pygments_lexer": "ipython3",
   "version": "3.11.3"
  },
  "orig_nbformat": 4
 },
 "nbformat": 4,
 "nbformat_minor": 2
}
